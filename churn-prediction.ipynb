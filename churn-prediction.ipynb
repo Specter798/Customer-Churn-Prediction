{
 "cells": [
  {
   "cell_type": "code",
   "execution_count": 1,
   "metadata": {
    "_cell_guid": "b1076dfc-b9ad-4769-8c92-a6c4dae69d19",
    "_uuid": "8f2839f25d086af736a60e9eeb907d3b93b6e0e5",
    "execution": {
     "iopub.execute_input": "2023-08-27T11:20:50.100260Z",
     "iopub.status.busy": "2023-08-27T11:20:50.099823Z",
     "iopub.status.idle": "2023-08-27T11:20:50.114946Z",
     "shell.execute_reply": "2023-08-27T11:20:50.113793Z",
     "shell.execute_reply.started": "2023-08-27T11:20:50.100225Z"
    }
   },
   "outputs": [],
   "source": [
    "import os\n",
    "for dirname, _, filenames in os.walk('/kaggle/input'):\n",
    "    for filename in filenames:\n",
    "        print(os.path.join(dirname, filename))"
   ]
  },
  {
   "cell_type": "code",
   "execution_count": 2,
   "metadata": {
    "execution": {
     "iopub.execute_input": "2023-08-27T11:20:50.346893Z",
     "iopub.status.busy": "2023-08-27T11:20:50.345957Z",
     "iopub.status.idle": "2023-08-27T11:20:50.630829Z",
     "shell.execute_reply": "2023-08-27T11:20:50.629572Z",
     "shell.execute_reply.started": "2023-08-27T11:20:50.346843Z"
    }
   },
   "outputs": [],
   "source": [
    "#import the required libraries\n",
    "import numpy as np \n",
    "import pandas as pd \n",
    "from sklearn.pipeline import Pipeline\n",
    "from sklearn.base import BaseEstimator, TransformerMixin\n",
    "import pickle\n",
    "import seaborn as sns \n",
    "import matplotlib.ticker as mtick  \n",
    "import matplotlib.pyplot as plt\n",
    "%matplotlib inline"
   ]
  },
  {
   "cell_type": "markdown",
   "metadata": {},
   "source": [
    "#### Loading the data file"
   ]
  },
  {
   "cell_type": "code",
   "execution_count": 3,
   "metadata": {
    "execution": {
     "iopub.execute_input": "2023-08-27T11:20:50.727829Z",
     "iopub.status.busy": "2023-08-27T11:20:50.727384Z",
     "iopub.status.idle": "2023-08-27T11:21:26.555305Z",
     "shell.execute_reply": "2023-08-27T11:21:26.554038Z",
     "shell.execute_reply.started": "2023-08-27T11:20:50.727795Z"
    }
   },
   "outputs": [],
   "source": [
    "path = \"customer_churn_large_dataset.xlsx\"\n",
    "Main_dataset = pd.read_excel(path)\n"
   ]
  },
  {
   "cell_type": "code",
   "execution_count": 4,
   "metadata": {
    "execution": {
     "iopub.execute_input": "2023-08-27T11:21:26.558185Z",
     "iopub.status.busy": "2023-08-27T11:21:26.557602Z",
     "iopub.status.idle": "2023-08-27T11:21:26.564724Z",
     "shell.execute_reply": "2023-08-27T11:21:26.563306Z",
     "shell.execute_reply.started": "2023-08-27T11:21:26.558151Z"
    }
   },
   "outputs": [
    {
     "name": "stdout",
     "output_type": "stream",
     "text": [
      "(100000, 9)\n"
     ]
    }
   ],
   "source": [
    "## print shape of dataset with rows and columns\n",
    "print(Main_dataset.shape)"
   ]
  },
  {
   "cell_type": "code",
   "execution_count": 5,
   "metadata": {
    "execution": {
     "iopub.execute_input": "2023-08-27T11:21:26.566417Z",
     "iopub.status.busy": "2023-08-27T11:21:26.566091Z",
     "iopub.status.idle": "2023-08-27T11:21:26.626530Z",
     "shell.execute_reply": "2023-08-27T11:21:26.625027Z",
     "shell.execute_reply.started": "2023-08-27T11:21:26.566390Z"
    }
   },
   "outputs": [
    {
     "data": {
      "text/html": [
       "<div>\n",
       "<style scoped>\n",
       "    .dataframe tbody tr th:only-of-type {\n",
       "        vertical-align: middle;\n",
       "    }\n",
       "\n",
       "    .dataframe tbody tr th {\n",
       "        vertical-align: top;\n",
       "    }\n",
       "\n",
       "    .dataframe thead th {\n",
       "        text-align: right;\n",
       "    }\n",
       "</style>\n",
       "<table border=\"1\" class=\"dataframe\">\n",
       "  <thead>\n",
       "    <tr style=\"text-align: right;\">\n",
       "      <th></th>\n",
       "      <th>CustomerID</th>\n",
       "      <th>Name</th>\n",
       "      <th>Age</th>\n",
       "      <th>Gender</th>\n",
       "      <th>Location</th>\n",
       "      <th>Subscription_Length_Months</th>\n",
       "      <th>Monthly_Bill</th>\n",
       "      <th>Total_Usage_GB</th>\n",
       "      <th>Churn</th>\n",
       "    </tr>\n",
       "  </thead>\n",
       "  <tbody>\n",
       "    <tr>\n",
       "      <th>0</th>\n",
       "      <td>1</td>\n",
       "      <td>Customer_1</td>\n",
       "      <td>63</td>\n",
       "      <td>Male</td>\n",
       "      <td>Los Angeles</td>\n",
       "      <td>17</td>\n",
       "      <td>73.36</td>\n",
       "      <td>236</td>\n",
       "      <td>0</td>\n",
       "    </tr>\n",
       "    <tr>\n",
       "      <th>1</th>\n",
       "      <td>2</td>\n",
       "      <td>Customer_2</td>\n",
       "      <td>62</td>\n",
       "      <td>Female</td>\n",
       "      <td>New York</td>\n",
       "      <td>1</td>\n",
       "      <td>48.76</td>\n",
       "      <td>172</td>\n",
       "      <td>0</td>\n",
       "    </tr>\n",
       "    <tr>\n",
       "      <th>2</th>\n",
       "      <td>3</td>\n",
       "      <td>Customer_3</td>\n",
       "      <td>24</td>\n",
       "      <td>Female</td>\n",
       "      <td>Los Angeles</td>\n",
       "      <td>5</td>\n",
       "      <td>85.47</td>\n",
       "      <td>460</td>\n",
       "      <td>0</td>\n",
       "    </tr>\n",
       "    <tr>\n",
       "      <th>3</th>\n",
       "      <td>4</td>\n",
       "      <td>Customer_4</td>\n",
       "      <td>36</td>\n",
       "      <td>Female</td>\n",
       "      <td>Miami</td>\n",
       "      <td>3</td>\n",
       "      <td>97.94</td>\n",
       "      <td>297</td>\n",
       "      <td>1</td>\n",
       "    </tr>\n",
       "    <tr>\n",
       "      <th>4</th>\n",
       "      <td>5</td>\n",
       "      <td>Customer_5</td>\n",
       "      <td>46</td>\n",
       "      <td>Female</td>\n",
       "      <td>Miami</td>\n",
       "      <td>19</td>\n",
       "      <td>58.14</td>\n",
       "      <td>266</td>\n",
       "      <td>0</td>\n",
       "    </tr>\n",
       "  </tbody>\n",
       "</table>\n",
       "</div>"
      ],
      "text/plain": [
       "   CustomerID        Name  Age  Gender     Location  \\\n",
       "0           1  Customer_1   63    Male  Los Angeles   \n",
       "1           2  Customer_2   62  Female     New York   \n",
       "2           3  Customer_3   24  Female  Los Angeles   \n",
       "3           4  Customer_4   36  Female        Miami   \n",
       "4           5  Customer_5   46  Female        Miami   \n",
       "\n",
       "   Subscription_Length_Months  Monthly_Bill  Total_Usage_GB  Churn  \n",
       "0                          17         73.36             236      0  \n",
       "1                           1         48.76             172      0  \n",
       "2                           5         85.47             460      0  \n",
       "3                           3         97.94             297      1  \n",
       "4                          19         58.14             266      0  "
      ]
     },
     "execution_count": 5,
     "metadata": {},
     "output_type": "execute_result"
    }
   ],
   "source": [
    "Main_dataset.head()"
   ]
  },
  {
   "cell_type": "code",
   "execution_count": 6,
   "metadata": {
    "execution": {
     "iopub.execute_input": "2023-08-27T11:21:26.629325Z",
     "iopub.status.busy": "2023-08-27T11:21:26.628993Z",
     "iopub.status.idle": "2023-08-27T11:21:26.637073Z",
     "shell.execute_reply": "2023-08-27T11:21:26.635758Z",
     "shell.execute_reply.started": "2023-08-27T11:21:26.629294Z"
    }
   },
   "outputs": [
    {
     "data": {
      "text/plain": [
       "Index(['CustomerID', 'Name', 'Age', 'Gender', 'Location',\n",
       "       'Subscription_Length_Months', 'Monthly_Bill', 'Total_Usage_GB',\n",
       "       'Churn'],\n",
       "      dtype='object')"
      ]
     },
     "execution_count": 6,
     "metadata": {},
     "output_type": "execute_result"
    }
   ],
   "source": [
    "Main_dataset.columns"
   ]
  },
  {
   "cell_type": "code",
   "execution_count": 7,
   "metadata": {
    "execution": {
     "iopub.execute_input": "2023-08-27T11:21:26.639178Z",
     "iopub.status.busy": "2023-08-27T11:21:26.638837Z",
     "iopub.status.idle": "2023-08-27T11:21:26.697687Z",
     "shell.execute_reply": "2023-08-27T11:21:26.696501Z",
     "shell.execute_reply.started": "2023-08-27T11:21:26.639148Z"
    }
   },
   "outputs": [
    {
     "data": {
      "text/html": [
       "<div>\n",
       "<style scoped>\n",
       "    .dataframe tbody tr th:only-of-type {\n",
       "        vertical-align: middle;\n",
       "    }\n",
       "\n",
       "    .dataframe tbody tr th {\n",
       "        vertical-align: top;\n",
       "    }\n",
       "\n",
       "    .dataframe thead th {\n",
       "        text-align: right;\n",
       "    }\n",
       "</style>\n",
       "<table border=\"1\" class=\"dataframe\">\n",
       "  <thead>\n",
       "    <tr style=\"text-align: right;\">\n",
       "      <th></th>\n",
       "      <th>CustomerID</th>\n",
       "      <th>Age</th>\n",
       "      <th>Subscription_Length_Months</th>\n",
       "      <th>Monthly_Bill</th>\n",
       "      <th>Total_Usage_GB</th>\n",
       "      <th>Churn</th>\n",
       "    </tr>\n",
       "  </thead>\n",
       "  <tbody>\n",
       "    <tr>\n",
       "      <th>count</th>\n",
       "      <td>100000.000000</td>\n",
       "      <td>100000.000000</td>\n",
       "      <td>100000.000000</td>\n",
       "      <td>100000.000000</td>\n",
       "      <td>100000.000000</td>\n",
       "      <td>100000.000000</td>\n",
       "    </tr>\n",
       "    <tr>\n",
       "      <th>mean</th>\n",
       "      <td>50000.500000</td>\n",
       "      <td>44.027020</td>\n",
       "      <td>12.490100</td>\n",
       "      <td>65.053197</td>\n",
       "      <td>274.393650</td>\n",
       "      <td>0.497790</td>\n",
       "    </tr>\n",
       "    <tr>\n",
       "      <th>std</th>\n",
       "      <td>28867.657797</td>\n",
       "      <td>15.280283</td>\n",
       "      <td>6.926461</td>\n",
       "      <td>20.230696</td>\n",
       "      <td>130.463063</td>\n",
       "      <td>0.499998</td>\n",
       "    </tr>\n",
       "    <tr>\n",
       "      <th>min</th>\n",
       "      <td>1.000000</td>\n",
       "      <td>18.000000</td>\n",
       "      <td>1.000000</td>\n",
       "      <td>30.000000</td>\n",
       "      <td>50.000000</td>\n",
       "      <td>0.000000</td>\n",
       "    </tr>\n",
       "    <tr>\n",
       "      <th>25%</th>\n",
       "      <td>25000.750000</td>\n",
       "      <td>31.000000</td>\n",
       "      <td>6.000000</td>\n",
       "      <td>47.540000</td>\n",
       "      <td>161.000000</td>\n",
       "      <td>0.000000</td>\n",
       "    </tr>\n",
       "    <tr>\n",
       "      <th>50%</th>\n",
       "      <td>50000.500000</td>\n",
       "      <td>44.000000</td>\n",
       "      <td>12.000000</td>\n",
       "      <td>65.010000</td>\n",
       "      <td>274.000000</td>\n",
       "      <td>0.000000</td>\n",
       "    </tr>\n",
       "    <tr>\n",
       "      <th>75%</th>\n",
       "      <td>75000.250000</td>\n",
       "      <td>57.000000</td>\n",
       "      <td>19.000000</td>\n",
       "      <td>82.640000</td>\n",
       "      <td>387.000000</td>\n",
       "      <td>1.000000</td>\n",
       "    </tr>\n",
       "    <tr>\n",
       "      <th>max</th>\n",
       "      <td>100000.000000</td>\n",
       "      <td>70.000000</td>\n",
       "      <td>24.000000</td>\n",
       "      <td>100.000000</td>\n",
       "      <td>500.000000</td>\n",
       "      <td>1.000000</td>\n",
       "    </tr>\n",
       "  </tbody>\n",
       "</table>\n",
       "</div>"
      ],
      "text/plain": [
       "          CustomerID            Age  Subscription_Length_Months  \\\n",
       "count  100000.000000  100000.000000               100000.000000   \n",
       "mean    50000.500000      44.027020                   12.490100   \n",
       "std     28867.657797      15.280283                    6.926461   \n",
       "min         1.000000      18.000000                    1.000000   \n",
       "25%     25000.750000      31.000000                    6.000000   \n",
       "50%     50000.500000      44.000000                   12.000000   \n",
       "75%     75000.250000      57.000000                   19.000000   \n",
       "max    100000.000000      70.000000                   24.000000   \n",
       "\n",
       "        Monthly_Bill  Total_Usage_GB          Churn  \n",
       "count  100000.000000   100000.000000  100000.000000  \n",
       "mean       65.053197      274.393650       0.497790  \n",
       "std        20.230696      130.463063       0.499998  \n",
       "min        30.000000       50.000000       0.000000  \n",
       "25%        47.540000      161.000000       0.000000  \n",
       "50%        65.010000      274.000000       0.000000  \n",
       "75%        82.640000      387.000000       1.000000  \n",
       "max       100.000000      500.000000       1.000000  "
      ]
     },
     "execution_count": 7,
     "metadata": {},
     "output_type": "execute_result"
    }
   ],
   "source": [
    "Main_dataset.describe()"
   ]
  },
  {
   "cell_type": "markdown",
   "metadata": {},
   "source": [
    "#### Here we can see that 75% people who are not likely to churn are :\n",
    "- People who are younger than age 57\n",
    "- Use lesser than 387 GB \n",
    "- Has subscription for less than 19 months \n",
    "- Monthly bill less than 82.64 units\n",
    "\n",
    "#### The remaining 25% people who are most likely to churn are :\n",
    "- People who are older than age 57\n",
    "- Use more than 387 GB \n",
    "- Has subscription for more than 19 months \n",
    "- Monthly bill more than 82.64 units"
   ]
  },
  {
   "cell_type": "code",
   "execution_count": 8,
   "metadata": {
    "execution": {
     "iopub.execute_input": "2023-08-27T11:21:26.701136Z",
     "iopub.status.busy": "2023-08-27T11:21:26.700727Z",
     "iopub.status.idle": "2023-08-27T11:21:26.825574Z",
     "shell.execute_reply": "2023-08-27T11:21:26.824496Z",
     "shell.execute_reply.started": "2023-08-27T11:21:26.701103Z"
    }
   },
   "outputs": [
    {
     "name": "stdout",
     "output_type": "stream",
     "text": [
      "<class 'pandas.core.frame.DataFrame'>\n",
      "RangeIndex: 100000 entries, 0 to 99999\n",
      "Data columns (total 9 columns):\n",
      " #   Column                      Non-Null Count   Dtype  \n",
      "---  ------                      --------------   -----  \n",
      " 0   CustomerID                  100000 non-null  int64  \n",
      " 1   Name                        100000 non-null  object \n",
      " 2   Age                         100000 non-null  int64  \n",
      " 3   Gender                      100000 non-null  object \n",
      " 4   Location                    100000 non-null  object \n",
      " 5   Subscription_Length_Months  100000 non-null  int64  \n",
      " 6   Monthly_Bill                100000 non-null  float64\n",
      " 7   Total_Usage_GB              100000 non-null  int64  \n",
      " 8   Churn                       100000 non-null  int64  \n",
      "dtypes: float64(1), int64(5), object(3)\n",
      "memory usage: 6.9+ MB\n"
     ]
    }
   ],
   "source": [
    "Main_dataset.info(verbose = True)"
   ]
  },
  {
   "cell_type": "markdown",
   "metadata": {},
   "source": [
    "#### the columns are in desired data types"
   ]
  },
  {
   "cell_type": "markdown",
   "metadata": {},
   "source": [
    "### Checking the distribution of the target variable"
   ]
  },
  {
   "cell_type": "code",
   "execution_count": 9,
   "metadata": {
    "execution": {
     "iopub.execute_input": "2023-08-27T11:22:22.488557Z",
     "iopub.status.busy": "2023-08-27T11:22:22.488123Z",
     "iopub.status.idle": "2023-08-27T11:22:22.797192Z",
     "shell.execute_reply": "2023-08-27T11:22:22.795951Z",
     "shell.execute_reply.started": "2023-08-27T11:22:22.488524Z"
    }
   },
   "outputs": [
    {
     "data": {
      "image/png": "[encoded data removed]",
      "text/plain": [
       "<Figure size 800x600 with 1 Axes>"
      ]
     },
     "metadata": {},
     "output_type": "display_data"
    }
   ],
   "source": [
    "Main_dataset['Churn'].value_counts().plot(kind='barh', figsize=(8, 6))\n",
    "plt.xlabel(\"Count\", labelpad=14)\n",
    "plt.ylabel(\"Target Variable\", labelpad=14)\n",
    "plt.title(\"Count of TARGET Variable per category\", y=1.02);"
   ]
  },
  {
   "cell_type": "code",
   "execution_count": 10,
   "metadata": {
    "execution": {
     "iopub.execute_input": "2023-08-27T11:22:22.800345Z",
     "iopub.status.busy": "2023-08-27T11:22:22.799584Z",
     "iopub.status.idle": "2023-08-27T11:22:22.812498Z",
     "shell.execute_reply": "2023-08-27T11:22:22.811474Z",
     "shell.execute_reply.started": "2023-08-27T11:22:22.800300Z"
    }
   },
   "outputs": [
    {
     "data": {
      "text/plain": [
       "0    50.221\n",
       "1    49.779\n",
       "Name: Churn, dtype: float64"
      ]
     },
     "execution_count": 10,
     "metadata": {},
     "output_type": "execute_result"
    }
   ],
   "source": [
    "100*Main_dataset['Churn'].value_counts()/len(Main_dataset['Churn'])"
   ]
  },
  {
   "cell_type": "code",
   "execution_count": 11,
   "metadata": {
    "execution": {
     "iopub.execute_input": "2023-08-27T11:22:23.008069Z",
     "iopub.status.busy": "2023-08-27T11:22:23.007651Z",
     "iopub.status.idle": "2023-08-27T11:22:23.018552Z",
     "shell.execute_reply": "2023-08-27T11:22:23.017400Z",
     "shell.execute_reply.started": "2023-08-27T11:22:23.008036Z"
    }
   },
   "outputs": [
    {
     "data": {
      "text/plain": [
       "0    50221\n",
       "1    49779\n",
       "Name: Churn, dtype: int64"
      ]
     },
     "execution_count": 11,
     "metadata": {},
     "output_type": "execute_result"
    }
   ],
   "source": [
    "Main_dataset['Churn'].value_counts()"
   ]
  },
  {
   "cell_type": "markdown",
   "metadata": {},
   "source": [
    "#### Here we can conclude that our data is balanced"
   ]
  },
  {
   "cell_type": "markdown",
   "metadata": {},
   "source": [
    "# EDA"
   ]
  },
  {
   "cell_type": "markdown",
   "metadata": {},
   "source": [
    "### Data Cleaning\n",
    "#### Checking for missing data"
   ]
  },
  {
   "cell_type": "code",
   "execution_count": 12,
   "metadata": {
    "execution": {
     "iopub.execute_input": "2023-08-27T11:22:24.415088Z",
     "iopub.status.busy": "2023-08-27T11:22:24.414673Z",
     "iopub.status.idle": "2023-08-27T11:22:24.522157Z",
     "shell.execute_reply": "2023-08-27T11:22:24.520980Z",
     "shell.execute_reply.started": "2023-08-27T11:22:24.415055Z"
    }
   },
   "outputs": [
    {
     "data": {
      "text/plain": [
       "CustomerID                    0\n",
       "Name                          0\n",
       "Age                           0\n",
       "Gender                        0\n",
       "Location                      0\n",
       "Subscription_Length_Months    0\n",
       "Monthly_Bill                  0\n",
       "Total_Usage_GB                0\n",
       "Churn                         0\n",
       "dtype: int64"
      ]
     },
     "execution_count": 12,
     "metadata": {},
     "output_type": "execute_result"
    }
   ],
   "source": [
    "Main_dataset.isnull().sum()"
   ]
  },
  {
   "cell_type": "markdown",
   "metadata": {},
   "source": [
    "#### Here we can see that we don't have any missing values in this data"
   ]
  },
  {
   "cell_type": "markdown",
   "metadata": {},
   "source": [
    "#### I am dropping CustomerID and Name features"
   ]
  },
  {
   "cell_type": "code",
   "execution_count": 13,
   "metadata": {
    "execution": {
     "iopub.execute_input": "2023-08-27T11:22:25.823113Z",
     "iopub.status.busy": "2023-08-27T11:22:25.822306Z",
     "iopub.status.idle": "2023-08-27T11:22:25.834764Z",
     "shell.execute_reply": "2023-08-27T11:22:25.833236Z",
     "shell.execute_reply.started": "2023-08-27T11:22:25.823070Z"
    }
   },
   "outputs": [],
   "source": [
    "dataset = Main_dataset.drop(['CustomerID','Name'],axis=1)"
   ]
  },
  {
   "cell_type": "code",
   "execution_count": 14,
   "metadata": {
    "execution": {
     "iopub.execute_input": "2023-08-27T11:22:26.318055Z",
     "iopub.status.busy": "2023-08-27T11:22:26.317677Z",
     "iopub.status.idle": "2023-08-27T11:22:26.346641Z",
     "shell.execute_reply": "2023-08-27T11:22:26.345599Z",
     "shell.execute_reply.started": "2023-08-27T11:22:26.318026Z"
    }
   },
   "outputs": [
    {
     "name": "stdout",
     "output_type": "stream",
     "text": [
      "Categoriacal Variables Count: 2\n"
     ]
    },
    {
     "data": {
      "text/plain": [
       "['Gender', 'Location']"
      ]
     },
     "execution_count": 14,
     "metadata": {},
     "output_type": "execute_result"
    }
   ],
   "source": [
    "# list of categoriacal variables\n",
    "categorical_features=[feature for feature in dataset.columns if dataset[feature].dtypes == 'O' and  len(Main_dataset[feature].unique())<25]\n",
    "\n",
    "print(\"Categoriacal Variables Count: {}\".format(len(categorical_features)))\n",
    "categorical_features"
   ]
  },
  {
   "cell_type": "markdown",
   "metadata": {},
   "source": [
    "#### 1. Plot distibution of individual predictors by churn\n",
    "\n",
    "### Univariate Analysis"
   ]
  },
  {
   "cell_type": "code",
   "execution_count": 15,
   "metadata": {
    "execution": {
     "iopub.execute_input": "2023-08-27T11:22:27.040469Z",
     "iopub.status.busy": "2023-08-27T11:22:27.040068Z",
     "iopub.status.idle": "2023-08-27T11:22:27.996359Z",
     "shell.execute_reply": "2023-08-27T11:22:27.995222Z",
     "shell.execute_reply.started": "2023-08-27T11:22:27.040421Z"
    }
   },
   "outputs": [
    {
     "data": {
      "text/plain": [
       "<Figure size 640x480 with 0 Axes>"
      ]
     },
     "metadata": {},
     "output_type": "display_data"
    },
    {
     "data": {
      "image/png": "[encoded data removed]",
      "text/plain": [
       "<Figure size 1000x1000 with 1 Axes>"
      ]
     },
     "metadata": {},
     "output_type": "display_data"
    },
    {
     "data": {
      "image/png": "[encoded data removed]",
      "text/plain": [
       "<Figure size 1000x1000 with 1 Axes>"
      ]
     },
     "metadata": {},
     "output_type": "display_data"
    }
   ],
   "source": [
    "for i, predictor in enumerate(dataset[categorical_features]):\n",
    "    plt.figure(i)\n",
    "    plt.figure(figsize=(10,10 ))\n",
    "    sns.countplot(data=dataset, x=predictor, hue ='Churn')"
   ]
  },
  {
   "cell_type": "markdown",
   "metadata": {},
   "source": [
    "#### Here we can see that the categorical variables are evenly distributed"
   ]
  },
  {
   "cell_type": "code",
   "execution_count": 16,
   "metadata": {
    "execution": {
     "iopub.execute_input": "2023-08-27T11:22:27.999549Z",
     "iopub.status.busy": "2023-08-27T11:22:27.998990Z",
     "iopub.status.idle": "2023-08-27T11:22:28.008925Z",
     "shell.execute_reply": "2023-08-27T11:22:28.007852Z",
     "shell.execute_reply.started": "2023-08-27T11:22:27.999392Z"
    }
   },
   "outputs": [
    {
     "name": "stdout",
     "output_type": "stream",
     "text": [
      "Number of numerical variables:  5\n"
     ]
    },
    {
     "data": {
      "text/plain": [
       "['Age',\n",
       " 'Subscription_Length_Months',\n",
       " 'Monthly_Bill',\n",
       " 'Total_Usage_GB',\n",
       " 'Churn']"
      ]
     },
     "execution_count": 16,
     "metadata": {},
     "output_type": "execute_result"
    }
   ],
   "source": [
    "# list of numerical variables\n",
    "numerical_features = [feature for feature in dataset.columns if dataset[feature].dtypes != 'O']\n",
    "\n",
    "print('Number of numerical variables: ', len(numerical_features))\n",
    "numerical_features"
   ]
  },
  {
   "cell_type": "code",
   "execution_count": 17,
   "metadata": {
    "execution": {
     "iopub.execute_input": "2023-08-27T11:22:28.653902Z",
     "iopub.status.busy": "2023-08-27T11:22:28.653064Z",
     "iopub.status.idle": "2023-08-27T11:22:28.669681Z",
     "shell.execute_reply": "2023-08-27T11:22:28.667902Z",
     "shell.execute_reply.started": "2023-08-27T11:22:28.653858Z"
    }
   },
   "outputs": [
    {
     "data": {
      "text/html": [
       "<div>\n",
       "<style scoped>\n",
       "    .dataframe tbody tr th:only-of-type {\n",
       "        vertical-align: middle;\n",
       "    }\n",
       "\n",
       "    .dataframe tbody tr th {\n",
       "        vertical-align: top;\n",
       "    }\n",
       "\n",
       "    .dataframe thead th {\n",
       "        text-align: right;\n",
       "    }\n",
       "</style>\n",
       "<table border=\"1\" class=\"dataframe\">\n",
       "  <thead>\n",
       "    <tr style=\"text-align: right;\">\n",
       "      <th></th>\n",
       "      <th>Age</th>\n",
       "      <th>Subscription_Length_Months</th>\n",
       "      <th>Monthly_Bill</th>\n",
       "      <th>Total_Usage_GB</th>\n",
       "      <th>Churn</th>\n",
       "    </tr>\n",
       "  </thead>\n",
       "  <tbody>\n",
       "    <tr>\n",
       "      <th>0</th>\n",
       "      <td>63</td>\n",
       "      <td>17</td>\n",
       "      <td>73.36</td>\n",
       "      <td>236</td>\n",
       "      <td>0</td>\n",
       "    </tr>\n",
       "    <tr>\n",
       "      <th>1</th>\n",
       "      <td>62</td>\n",
       "      <td>1</td>\n",
       "      <td>48.76</td>\n",
       "      <td>172</td>\n",
       "      <td>0</td>\n",
       "    </tr>\n",
       "    <tr>\n",
       "      <th>2</th>\n",
       "      <td>24</td>\n",
       "      <td>5</td>\n",
       "      <td>85.47</td>\n",
       "      <td>460</td>\n",
       "      <td>0</td>\n",
       "    </tr>\n",
       "    <tr>\n",
       "      <th>3</th>\n",
       "      <td>36</td>\n",
       "      <td>3</td>\n",
       "      <td>97.94</td>\n",
       "      <td>297</td>\n",
       "      <td>1</td>\n",
       "    </tr>\n",
       "    <tr>\n",
       "      <th>4</th>\n",
       "      <td>46</td>\n",
       "      <td>19</td>\n",
       "      <td>58.14</td>\n",
       "      <td>266</td>\n",
       "      <td>0</td>\n",
       "    </tr>\n",
       "  </tbody>\n",
       "</table>\n",
       "</div>"
      ],
      "text/plain": [
       "   Age  Subscription_Length_Months  Monthly_Bill  Total_Usage_GB  Churn\n",
       "0   63                          17         73.36             236      0\n",
       "1   62                           1         48.76             172      0\n",
       "2   24                           5         85.47             460      0\n",
       "3   36                           3         97.94             297      1\n",
       "4   46                          19         58.14             266      0"
      ]
     },
     "execution_count": 17,
     "metadata": {},
     "output_type": "execute_result"
    }
   ],
   "source": [
    "dataset[numerical_features].head()\n"
   ]
  },
  {
   "cell_type": "code",
   "execution_count": 18,
   "metadata": {
    "execution": {
     "iopub.execute_input": "2023-08-27T11:22:28.966947Z",
     "iopub.status.busy": "2023-08-27T11:22:28.966515Z",
     "iopub.status.idle": "2023-08-27T11:22:28.979517Z",
     "shell.execute_reply": "2023-08-27T11:22:28.978657Z",
     "shell.execute_reply.started": "2023-08-27T11:22:28.966911Z"
    }
   },
   "outputs": [
    {
     "name": "stdout",
     "output_type": "stream",
     "text": [
      "Discrete Variables Count: 0\n"
     ]
    }
   ],
   "source": [
    "## Numerical variables are usually of 2 type\n",
    "## 1. Continous variable and Discrete Variables\n",
    "\n",
    "discrete_feature=[feature for feature in numerical_features if len(dataset[feature].unique())<20 and feature != 'Churn']\n",
    "print(\"Discrete Variables Count: {}\".format(len(discrete_feature)))"
   ]
  },
  {
   "cell_type": "code",
   "execution_count": 19,
   "metadata": {
    "execution": {
     "iopub.execute_input": "2023-08-27T11:22:29.798259Z",
     "iopub.status.busy": "2023-08-27T11:22:29.797416Z",
     "iopub.status.idle": "2023-08-27T11:22:29.813573Z",
     "shell.execute_reply": "2023-08-27T11:22:29.812105Z",
     "shell.execute_reply.started": "2023-08-27T11:22:29.798223Z"
    }
   },
   "outputs": [
    {
     "name": "stdout",
     "output_type": "stream",
     "text": [
      "Continous Variables Count: 4\n"
     ]
    },
    {
     "data": {
      "text/plain": [
       "['Age', 'Subscription_Length_Months', 'Monthly_Bill', 'Total_Usage_GB']"
      ]
     },
     "execution_count": 19,
     "metadata": {},
     "output_type": "execute_result"
    }
   ],
   "source": [
    "## Numerical variables are usually of 2 type\n",
    "## 1. Continous variable and Discrete Variables\n",
    "\n",
    "continuous_feature=[feature for feature in numerical_features if len(dataset[feature].unique())>20 and feature != 'Churn']\n",
    "print(\"Continous Variables Count: {}\".format(len(continuous_feature)))\n",
    "continuous_feature"
   ]
  },
  {
   "cell_type": "code",
   "execution_count": 20,
   "metadata": {
    "execution": {
     "iopub.execute_input": "2023-08-27T11:22:30.439703Z",
     "iopub.status.busy": "2023-08-27T11:22:30.438613Z",
     "iopub.status.idle": "2023-08-27T11:22:31.757892Z",
     "shell.execute_reply": "2023-08-27T11:22:31.756720Z",
     "shell.execute_reply.started": "2023-08-27T11:22:30.439660Z"
    }
   },
   "outputs": [
    {
     "data": {
      "image/png": "[encoded data removed]",
      "text/plain": [
       "<Figure size 640x480 with 1 Axes>"
      ]
     },
     "metadata": {},
     "output_type": "display_data"
    },
    {
     "data": {
      "image/png": "[encoded data removed]",
      "text/plain": [
       "<Figure size 640x480 with 1 Axes>"
      ]
     },
     "metadata": {},
     "output_type": "display_data"
    },
    {
     "data": {
      "image/png": "[encoded data removed]",
      "text/plain": [
       "<Figure size 640x480 with 1 Axes>"
      ]
     },
     "metadata": {},
     "output_type": "display_data"
    },
    {
     "data": {
      "image/png": "[encoded data removed]",
      "text/plain": [
       "<Figure size 640x480 with 1 Axes>"
      ]
     },
     "metadata": {},
     "output_type": "display_data"
    }
   ],
   "source": [
    "## Lets analyse the continuous values by creating histograms to understand the distribution\n",
    "\n",
    "for feature in continuous_feature:\n",
    "    data=dataset.copy()\n",
    "    dataset[feature].hist(bins=25)\n",
    "    plt.xlabel(feature)\n",
    "    plt.ylabel(\"Count\")\n",
    "    plt.title(feature)\n",
    "    plt.show()"
   ]
  },
  {
   "cell_type": "markdown",
   "metadata": {},
   "source": [
    "### Now we are encoding the categorical data"
   ]
  },
  {
   "cell_type": "code",
   "execution_count": 21,
   "metadata": {
    "execution": {
     "iopub.execute_input": "2023-08-27T11:22:31.760848Z",
     "iopub.status.busy": "2023-08-27T11:22:31.760139Z",
     "iopub.status.idle": "2023-08-27T11:22:31.817790Z",
     "shell.execute_reply": "2023-08-27T11:22:31.816867Z",
     "shell.execute_reply.started": "2023-08-27T11:22:31.760805Z"
    }
   },
   "outputs": [],
   "source": [
    "data=dataset.copy()\n",
    "for feature in categorical_features:\n",
    "    labels_ordered=data.groupby([feature])['Churn'].mean().sort_values().index\n",
    "    labels_ordered={k:i for i,k in enumerate(labels_ordered,0)}\n",
    "\n",
    "    data[feature]=data[feature].map(labels_ordered)"
   ]
  },
  {
   "cell_type": "code",
   "execution_count": 22,
   "metadata": {},
   "outputs": [
    {
     "data": {
      "text/plain": [
       "{'Houston': 0, 'Los Angeles': 1, 'Chicago': 2, 'Miami': 3, 'New York': 4}"
      ]
     },
     "execution_count": 22,
     "metadata": {},
     "output_type": "execute_result"
    }
   ],
   "source": [
    "labels_ordered"
   ]
  },
  {
   "cell_type": "code",
   "execution_count": 23,
   "metadata": {
    "execution": {
     "iopub.execute_input": "2023-08-27T11:22:31.910621Z",
     "iopub.status.busy": "2023-08-27T11:22:31.910176Z",
     "iopub.status.idle": "2023-08-27T11:22:31.930387Z",
     "shell.execute_reply": "2023-08-27T11:22:31.928900Z",
     "shell.execute_reply.started": "2023-08-27T11:22:31.910582Z"
    }
   },
   "outputs": [
    {
     "data": {
      "text/html": [
       "<div>\n",
       "<style scoped>\n",
       "    .dataframe tbody tr th:only-of-type {\n",
       "        vertical-align: middle;\n",
       "    }\n",
       "\n",
       "    .dataframe tbody tr th {\n",
       "        vertical-align: top;\n",
       "    }\n",
       "\n",
       "    .dataframe thead th {\n",
       "        text-align: right;\n",
       "    }\n",
       "</style>\n",
       "<table border=\"1\" class=\"dataframe\">\n",
       "  <thead>\n",
       "    <tr style=\"text-align: right;\">\n",
       "      <th></th>\n",
       "      <th>Age</th>\n",
       "      <th>Gender</th>\n",
       "      <th>Location</th>\n",
       "      <th>Subscription_Length_Months</th>\n",
       "      <th>Monthly_Bill</th>\n",
       "      <th>Total_Usage_GB</th>\n",
       "      <th>Churn</th>\n",
       "    </tr>\n",
       "  </thead>\n",
       "  <tbody>\n",
       "    <tr>\n",
       "      <th>0</th>\n",
       "      <td>63</td>\n",
       "      <td>1</td>\n",
       "      <td>1</td>\n",
       "      <td>17</td>\n",
       "      <td>73.36</td>\n",
       "      <td>236</td>\n",
       "      <td>0</td>\n",
       "    </tr>\n",
       "    <tr>\n",
       "      <th>1</th>\n",
       "      <td>62</td>\n",
       "      <td>0</td>\n",
       "      <td>4</td>\n",
       "      <td>1</td>\n",
       "      <td>48.76</td>\n",
       "      <td>172</td>\n",
       "      <td>0</td>\n",
       "    </tr>\n",
       "    <tr>\n",
       "      <th>2</th>\n",
       "      <td>24</td>\n",
       "      <td>0</td>\n",
       "      <td>1</td>\n",
       "      <td>5</td>\n",
       "      <td>85.47</td>\n",
       "      <td>460</td>\n",
       "      <td>0</td>\n",
       "    </tr>\n",
       "    <tr>\n",
       "      <th>3</th>\n",
       "      <td>36</td>\n",
       "      <td>0</td>\n",
       "      <td>3</td>\n",
       "      <td>3</td>\n",
       "      <td>97.94</td>\n",
       "      <td>297</td>\n",
       "      <td>1</td>\n",
       "    </tr>\n",
       "    <tr>\n",
       "      <th>4</th>\n",
       "      <td>46</td>\n",
       "      <td>0</td>\n",
       "      <td>3</td>\n",
       "      <td>19</td>\n",
       "      <td>58.14</td>\n",
       "      <td>266</td>\n",
       "      <td>0</td>\n",
       "    </tr>\n",
       "    <tr>\n",
       "      <th>...</th>\n",
       "      <td>...</td>\n",
       "      <td>...</td>\n",
       "      <td>...</td>\n",
       "      <td>...</td>\n",
       "      <td>...</td>\n",
       "      <td>...</td>\n",
       "      <td>...</td>\n",
       "    </tr>\n",
       "    <tr>\n",
       "      <th>99995</th>\n",
       "      <td>33</td>\n",
       "      <td>1</td>\n",
       "      <td>0</td>\n",
       "      <td>23</td>\n",
       "      <td>55.13</td>\n",
       "      <td>226</td>\n",
       "      <td>1</td>\n",
       "    </tr>\n",
       "    <tr>\n",
       "      <th>99996</th>\n",
       "      <td>62</td>\n",
       "      <td>0</td>\n",
       "      <td>4</td>\n",
       "      <td>19</td>\n",
       "      <td>61.65</td>\n",
       "      <td>351</td>\n",
       "      <td>0</td>\n",
       "    </tr>\n",
       "    <tr>\n",
       "      <th>99997</th>\n",
       "      <td>64</td>\n",
       "      <td>1</td>\n",
       "      <td>2</td>\n",
       "      <td>17</td>\n",
       "      <td>96.11</td>\n",
       "      <td>251</td>\n",
       "      <td>1</td>\n",
       "    </tr>\n",
       "    <tr>\n",
       "      <th>99998</th>\n",
       "      <td>51</td>\n",
       "      <td>0</td>\n",
       "      <td>4</td>\n",
       "      <td>20</td>\n",
       "      <td>49.25</td>\n",
       "      <td>434</td>\n",
       "      <td>1</td>\n",
       "    </tr>\n",
       "    <tr>\n",
       "      <th>99999</th>\n",
       "      <td>27</td>\n",
       "      <td>0</td>\n",
       "      <td>1</td>\n",
       "      <td>19</td>\n",
       "      <td>76.57</td>\n",
       "      <td>173</td>\n",
       "      <td>1</td>\n",
       "    </tr>\n",
       "  </tbody>\n",
       "</table>\n",
       "<p>100000 rows × 7 columns</p>\n",
       "</div>"
      ],
      "text/plain": [
       "       Age  Gender  Location  Subscription_Length_Months  Monthly_Bill  \\\n",
       "0       63       1         1                          17         73.36   \n",
       "1       62       0         4                           1         48.76   \n",
       "2       24       0         1                           5         85.47   \n",
       "3       36       0         3                           3         97.94   \n",
       "4       46       0         3                          19         58.14   \n",
       "...    ...     ...       ...                         ...           ...   \n",
       "99995   33       1         0                          23         55.13   \n",
       "99996   62       0         4                          19         61.65   \n",
       "99997   64       1         2                          17         96.11   \n",
       "99998   51       0         4                          20         49.25   \n",
       "99999   27       0         1                          19         76.57   \n",
       "\n",
       "       Total_Usage_GB  Churn  \n",
       "0                 236      0  \n",
       "1                 172      0  \n",
       "2                 460      0  \n",
       "3                 297      1  \n",
       "4                 266      0  \n",
       "...               ...    ...  \n",
       "99995             226      1  \n",
       "99996             351      0  \n",
       "99997             251      1  \n",
       "99998             434      1  \n",
       "99999             173      1  \n",
       "\n",
       "[100000 rows x 7 columns]"
      ]
     },
     "execution_count": 23,
     "metadata": {},
     "output_type": "execute_result"
    }
   ],
   "source": [
    "data"
   ]
  },
  {
   "cell_type": "markdown",
   "metadata": {},
   "source": [
    "#### Build a corelation of all predictors with 'Churn'"
   ]
  },
  {
   "cell_type": "code",
   "execution_count": 24,
   "metadata": {
    "execution": {
     "iopub.execute_input": "2023-08-27T11:22:32.875043Z",
     "iopub.status.busy": "2023-08-27T11:22:32.874204Z",
     "iopub.status.idle": "2023-08-27T11:22:33.339154Z",
     "shell.execute_reply": "2023-08-27T11:22:33.337824Z",
     "shell.execute_reply.started": "2023-08-27T11:22:32.874992Z"
    }
   },
   "outputs": [
    {
     "data": {
      "text/plain": [
       "<Axes: >"
      ]
     },
     "execution_count": 24,
     "metadata": {},
     "output_type": "execute_result"
    },
    {
     "data": {
      "image/png": "[encoded data removed]",
      "text/plain": [
       "<Figure size 1200x1200 with 2 Axes>"
      ]
     },
     "metadata": {},
     "output_type": "display_data"
    }
   ],
   "source": [
    "plt.figure(figsize=(12,12))\n",
    "sns.heatmap(data.corr(), cmap=\"Paired\")"
   ]
  },
  {
   "cell_type": "markdown",
   "metadata": {},
   "source": [
    "#### Here we don't see any special correlation among the parameters"
   ]
  },
  {
   "cell_type": "markdown",
   "metadata": {},
   "source": [
    "### Bivariate Analysis\n"
   ]
  },
  {
   "cell_type": "code",
   "execution_count": 25,
   "metadata": {
    "execution": {
     "iopub.execute_input": "2023-08-27T11:22:34.080006Z",
     "iopub.status.busy": "2023-08-27T11:22:34.079603Z",
     "iopub.status.idle": "2023-08-27T11:22:34.094849Z",
     "shell.execute_reply": "2023-08-27T11:22:34.093416Z",
     "shell.execute_reply.started": "2023-08-27T11:22:34.079973Z"
    }
   },
   "outputs": [],
   "source": [
    "new_df1_target0=dataset.loc[dataset[\"Churn\"]==0]\n",
    "new_df1_target1=dataset.loc[dataset[\"Churn\"]==1]"
   ]
  },
  {
   "cell_type": "code",
   "execution_count": 26,
   "metadata": {
    "execution": {
     "iopub.execute_input": "2023-08-27T11:22:34.620561Z",
     "iopub.status.busy": "2023-08-27T11:22:34.620105Z",
     "iopub.status.idle": "2023-08-27T11:22:34.629038Z",
     "shell.execute_reply": "2023-08-27T11:22:34.628038Z",
     "shell.execute_reply.started": "2023-08-27T11:22:34.620525Z"
    }
   },
   "outputs": [],
   "source": [
    "def uniplot(df,col,title,hue =None):\n",
    "    \n",
    "    sns.set_style('whitegrid')\n",
    "    sns.set_context('talk')\n",
    "    plt.rcParams[\"axes.labelsize\"] = 20\n",
    "    plt.rcParams['axes.titlesize'] = 22\n",
    "    plt.rcParams['axes.titlepad'] = 30\n",
    "    \n",
    "    \n",
    "    temp = pd.Series(data = hue)\n",
    "    fig, ax = plt.subplots()\n",
    "    width = len(df[col].unique()) + 7 + 4*len(temp.unique())\n",
    "    fig.set_size_inches(width , 8)\n",
    "    plt.xticks(rotation=45)\n",
    "    plt.yscale('log')\n",
    "    plt.title(title)\n",
    "    ax = sns.countplot(data = df, x= col, order=df[col].value_counts().index,hue = hue,palette='bright') \n",
    "        \n",
    "    plt.show()"
   ]
  },
  {
   "cell_type": "code",
   "execution_count": 27,
   "metadata": {
    "execution": {
     "iopub.execute_input": "2023-08-27T11:22:34.862091Z",
     "iopub.status.busy": "2023-08-27T11:22:34.861216Z",
     "iopub.status.idle": "2023-08-27T11:22:35.758548Z",
     "shell.execute_reply": "2023-08-27T11:22:35.757265Z",
     "shell.execute_reply.started": "2023-08-27T11:22:34.862051Z"
    }
   },
   "outputs": [
    {
     "data": {
      "image/png": "[encoded data removed]",
      "text/plain": [
       "<Figure size 1600x800 with 1 Axes>"
      ]
     },
     "metadata": {},
     "output_type": "display_data"
    }
   ],
   "source": [
    "uniplot(new_df1_target1,col='Location',title='Distribution of Location for Churned Customers',hue='Gender')"
   ]
  },
  {
   "cell_type": "markdown",
   "metadata": {},
   "source": [
    "#### Here we can see that the Female cutomers from Miami has got churned the most"
   ]
  },
  {
   "cell_type": "code",
   "execution_count": 28,
   "metadata": {
    "execution": {
     "iopub.execute_input": "2023-08-27T11:22:35.762652Z",
     "iopub.status.busy": "2023-08-27T11:22:35.761396Z",
     "iopub.status.idle": "2023-08-27T11:22:36.507311Z",
     "shell.execute_reply": "2023-08-27T11:22:36.506428Z",
     "shell.execute_reply.started": "2023-08-27T11:22:35.762596Z"
    }
   },
   "outputs": [
    {
     "data": {
      "image/png": "[encoded data removed]",
      "text/plain": [
       "<Figure size 1600x800 with 1 Axes>"
      ]
     },
     "metadata": {},
     "output_type": "display_data"
    }
   ],
   "source": [
    "uniplot(new_df1_target0,col='Location',title='Distribution of Location for Churned Customers',hue='Gender')"
   ]
  },
  {
   "cell_type": "markdown",
   "metadata": {},
   "source": [
    "#### Here we can see that the Female cutomers from Los Angeles and Male customers from Houston has got churned the least"
   ]
  },
  {
   "cell_type": "markdown",
   "metadata": {},
   "source": [
    "# Train Test Split"
   ]
  },
  {
   "cell_type": "code",
   "execution_count": 29,
   "metadata": {
    "execution": {
     "iopub.execute_input": "2023-08-27T11:22:36.900429Z",
     "iopub.status.busy": "2023-08-27T11:22:36.899557Z",
     "iopub.status.idle": "2023-08-27T11:22:36.904769Z",
     "shell.execute_reply": "2023-08-27T11:22:36.903806Z",
     "shell.execute_reply.started": "2023-08-27T11:22:36.900390Z"
    }
   },
   "outputs": [],
   "source": [
    "from sklearn.model_selection import train_test_split\n"
   ]
  },
  {
   "cell_type": "code",
   "execution_count": 30,
   "metadata": {
    "execution": {
     "iopub.execute_input": "2023-08-27T11:22:37.394997Z",
     "iopub.status.busy": "2023-08-27T11:22:37.394221Z",
     "iopub.status.idle": "2023-08-27T11:22:37.400466Z",
     "shell.execute_reply": "2023-08-27T11:22:37.399402Z",
     "shell.execute_reply.started": "2023-08-27T11:22:37.394958Z"
    }
   },
   "outputs": [],
   "source": [
    "features = [feature for feature in data if feature != 'Churn' ]"
   ]
  },
  {
   "cell_type": "code",
   "execution_count": 31,
   "metadata": {
    "execution": {
     "iopub.execute_input": "2023-08-27T11:22:37.750468Z",
     "iopub.status.busy": "2023-08-27T11:22:37.750079Z",
     "iopub.status.idle": "2023-08-27T11:22:37.763139Z",
     "shell.execute_reply": "2023-08-27T11:22:37.761985Z",
     "shell.execute_reply.started": "2023-08-27T11:22:37.750423Z"
    }
   },
   "outputs": [],
   "source": [
    "x= data[features]\n",
    "y = data[\"Churn\"]"
   ]
  },
  {
   "cell_type": "code",
   "execution_count": 32,
   "metadata": {
    "execution": {
     "iopub.execute_input": "2023-08-27T11:22:38.160309Z",
     "iopub.status.busy": "2023-08-27T11:22:38.159116Z",
     "iopub.status.idle": "2023-08-27T11:22:38.184884Z",
     "shell.execute_reply": "2023-08-27T11:22:38.183770Z",
     "shell.execute_reply.started": "2023-08-27T11:22:38.160268Z"
    }
   },
   "outputs": [
    {
     "name": "stdout",
     "output_type": "stream",
     "text": [
      "(67000, 6)\n",
      "(67000,)\n",
      "(33000, 6)\n",
      "(33000,)\n",
      "<class 'pandas.core.frame.DataFrame'>\n",
      "<class 'pandas.core.series.Series'>\n",
      "<class 'pandas.core.frame.DataFrame'>\n",
      "<class 'pandas.core.series.Series'>\n"
     ]
    }
   ],
   "source": [
    "x_train, x_test, y_train, y_test = train_test_split(x, y, test_size=0.33, random_state=42)\n",
    "print(x_train.shape)\n",
    "print(y_train.shape)\n",
    "print(x_test.shape)\n",
    "print(y_test.shape)\n",
    "\n",
    "print(type(x_train))\n",
    "print(type(y_train))\n",
    "print(type(x_test))\n",
    "print(type(y_test))"
   ]
  },
  {
   "cell_type": "markdown",
   "metadata": {},
   "source": [
    "### Feature Selection"
   ]
  },
  {
   "cell_type": "code",
   "execution_count": 33,
   "metadata": {
    "execution": {
     "iopub.execute_input": "2023-08-27T11:22:39.444936Z",
     "iopub.status.busy": "2023-08-27T11:22:39.444087Z",
     "iopub.status.idle": "2023-08-27T11:22:39.450790Z",
     "shell.execute_reply": "2023-08-27T11:22:39.449874Z",
     "shell.execute_reply.started": "2023-08-27T11:22:39.444890Z"
    }
   },
   "outputs": [],
   "source": [
    "# Define feature selection\n",
    "from sklearn.feature_selection import f_classif,SelectKBest \n",
    "fs = SelectKBest(score_func=f_classif,k=3)"
   ]
  },
  {
   "cell_type": "code",
   "execution_count": 34,
   "metadata": {
    "execution": {
     "iopub.execute_input": "2023-08-27T11:22:40.127607Z",
     "iopub.status.busy": "2023-08-27T11:22:40.126805Z",
     "iopub.status.idle": "2023-08-27T11:22:40.161207Z",
     "shell.execute_reply": "2023-08-27T11:22:40.160386Z",
     "shell.execute_reply.started": "2023-08-27T11:22:40.127560Z"
    }
   },
   "outputs": [
    {
     "data": {
      "text/html": [
       "<style>#sk-container-id-1 {color: black;background-color: white;}#sk-container-id-1 pre{padding: 0;}#sk-container-id-1 div.sk-toggleable {background-color: white;}#sk-container-id-1 label.sk-toggleable__label {cursor: pointer;display: block;width: 100%;margin-bottom: 0;padding: 0.3em;box-sizing: border-box;text-align: center;}#sk-container-id-1 label.sk-toggleable__label-arrow:before {content: \"▸\";float: left;margin-right: 0.25em;color: #696969;}#sk-container-id-1 label.sk-toggleable__label-arrow:hover:before {color: black;}#sk-container-id-1 div.sk-estimator:hover label.sk-toggleable__label-arrow:before {color: black;}#sk-container-id-1 div.sk-toggleable__content {max-height: 0;max-width: 0;overflow: hidden;text-align: left;background-color: #f0f8ff;}#sk-container-id-1 div.sk-toggleable__content pre {margin: 0.2em;color: black;border-radius: 0.25em;background-color: #f0f8ff;}#sk-container-id-1 input.sk-toggleable__control:checked~div.sk-toggleable__content {max-height: 200px;max-width: 100%;overflow: auto;}#sk-container-id-1 input.sk-toggleable__control:checked~label.sk-toggleable__label-arrow:before {content: \"▾\";}#sk-container-id-1 div.sk-estimator input.sk-toggleable__control:checked~label.sk-toggleable__label {background-color: #d4ebff;}#sk-container-id-1 div.sk-label input.sk-toggleable__control:checked~label.sk-toggleable__label {background-color: #d4ebff;}#sk-container-id-1 input.sk-hidden--visually {border: 0;clip: rect(1px 1px 1px 1px);clip: rect(1px, 1px, 1px, 1px);height: 1px;margin: -1px;overflow: hidden;padding: 0;position: absolute;width: 1px;}#sk-container-id-1 div.sk-estimator {font-family: monospace;background-color: #f0f8ff;border: 1px dotted black;border-radius: 0.25em;box-sizing: border-box;margin-bottom: 0.5em;}#sk-container-id-1 div.sk-estimator:hover {background-color: #d4ebff;}#sk-container-id-1 div.sk-parallel-item::after {content: \"\";width: 100%;border-bottom: 1px solid gray;flex-grow: 1;}#sk-container-id-1 div.sk-label:hover label.sk-toggleable__label {background-color: #d4ebff;}#sk-container-id-1 div.sk-serial::before {content: \"\";position: absolute;border-left: 1px solid gray;box-sizing: border-box;top: 0;bottom: 0;left: 50%;z-index: 0;}#sk-container-id-1 div.sk-serial {display: flex;flex-direction: column;align-items: center;background-color: white;padding-right: 0.2em;padding-left: 0.2em;position: relative;}#sk-container-id-1 div.sk-item {position: relative;z-index: 1;}#sk-container-id-1 div.sk-parallel {display: flex;align-items: stretch;justify-content: center;background-color: white;position: relative;}#sk-container-id-1 div.sk-item::before, #sk-container-id-1 div.sk-parallel-item::before {content: \"\";position: absolute;border-left: 1px solid gray;box-sizing: border-box;top: 0;bottom: 0;left: 50%;z-index: -1;}#sk-container-id-1 div.sk-parallel-item {display: flex;flex-direction: column;z-index: 1;position: relative;background-color: white;}#sk-container-id-1 div.sk-parallel-item:first-child::after {align-self: flex-end;width: 50%;}#sk-container-id-1 div.sk-parallel-item:last-child::after {align-self: flex-start;width: 50%;}#sk-container-id-1 div.sk-parallel-item:only-child::after {width: 0;}#sk-container-id-1 div.sk-dashed-wrapped {border: 1px dashed gray;margin: 0 0.4em 0.5em 0.4em;box-sizing: border-box;padding-bottom: 0.4em;background-color: white;}#sk-container-id-1 div.sk-label label {font-family: monospace;font-weight: bold;display: inline-block;line-height: 1.2em;}#sk-container-id-1 div.sk-label-container {text-align: center;}#sk-container-id-1 div.sk-container {/* jupyter's `normalize.less` sets `[hidden] { display: none; }` but bootstrap.min.css set `[hidden] { display: none !important; }` so we also need the `!important` here to be able to override the default hidden behavior on the sphinx rendered scikit-learn.org. See: https://github.com/scikit-learn/scikit-learn/issues/21755 */display: inline-block !important;position: relative;}#sk-container-id-1 div.sk-text-repr-fallback {display: none;}</style><div id=\"sk-container-id-1\" class=\"sk-top-container\"><div class=\"sk-text-repr-fallback\"><pre>SelectKBest(k=3)</pre><b>In a Jupyter environment, please rerun this cell to show the HTML representation or trust the notebook. <br />On GitHub, the HTML representation is unable to render, please try loading this page with nbviewer.org.</b></div><div class=\"sk-container\" hidden><div class=\"sk-item\"><div class=\"sk-estimator sk-toggleable\"><input class=\"sk-toggleable__control sk-hidden--visually\" id=\"sk-estimator-id-1\" type=\"checkbox\" checked><label for=\"sk-estimator-id-1\" class=\"sk-toggleable__label sk-toggleable__label-arrow\">SelectKBest</label><div class=\"sk-toggleable__content\"><pre>SelectKBest(k=3)</pre></div></div></div></div></div>"
      ],
      "text/plain": [
       "SelectKBest(k=3)"
      ]
     },
     "execution_count": 34,
     "metadata": {},
     "output_type": "execute_result"
    }
   ],
   "source": [
    "# Apply feature selection\n",
    "fs.fit(x_train, y_train)"
   ]
  },
  {
   "cell_type": "code",
   "execution_count": 35,
   "metadata": {
    "execution": {
     "iopub.execute_input": "2023-08-27T11:22:40.929838Z",
     "iopub.status.busy": "2023-08-27T11:22:40.929378Z",
     "iopub.status.idle": "2023-08-27T11:22:40.937207Z",
     "shell.execute_reply": "2023-08-27T11:22:40.936411Z",
     "shell.execute_reply.started": "2023-08-27T11:22:40.929804Z"
    }
   },
   "outputs": [
    {
     "data": {
      "text/plain": [
       "array([ True, False,  True, False,  True, False])"
      ]
     },
     "execution_count": 35,
     "metadata": {},
     "output_type": "execute_result"
    }
   ],
   "source": [
    "# True = Top 5 columns as we mentioned k = 3\n",
    "# False = Allthe remaining columns excpet k = 3\n",
    "fs.get_support()"
   ]
  },
  {
   "cell_type": "code",
   "execution_count": 36,
   "metadata": {
    "execution": {
     "iopub.execute_input": "2023-08-27T11:22:41.688658Z",
     "iopub.status.busy": "2023-08-27T11:22:41.687968Z",
     "iopub.status.idle": "2023-08-27T11:22:41.696805Z",
     "shell.execute_reply": "2023-08-27T11:22:41.695567Z",
     "shell.execute_reply.started": "2023-08-27T11:22:41.688609Z"
    }
   },
   "outputs": [
    {
     "data": {
      "text/plain": [
       "Index(['Age', 'Location', 'Monthly_Bill'], dtype='object')"
      ]
     },
     "execution_count": 36,
     "metadata": {},
     "output_type": "execute_result"
    }
   ],
   "source": [
    "# let's print the number of total and selected features\n",
    "\n",
    "# this is how we can make a list of the selected features\n",
    "selected_feat = x_train.columns[(fs.get_support())]\n",
    "selected_feat"
   ]
  },
  {
   "cell_type": "code",
   "execution_count": 37,
   "metadata": {
    "execution": {
     "iopub.execute_input": "2023-08-27T11:22:42.403820Z",
     "iopub.status.busy": "2023-08-27T11:22:42.403395Z",
     "iopub.status.idle": "2023-08-27T11:22:42.411209Z",
     "shell.execute_reply": "2023-08-27T11:22:42.410255Z",
     "shell.execute_reply.started": "2023-08-27T11:22:42.403787Z"
    }
   },
   "outputs": [
    {
     "name": "stdout",
     "output_type": "stream",
     "text": [
      "P_Values :\n",
      "[0.1944 0.7897 0.0214 0.7265 0.392  0.589 ]\n",
      "F Values :\n",
      "[1.68397026 0.07114018 5.29558409 0.12234231 0.73263151 0.2918399 ]\n"
     ]
    }
   ],
   "source": [
    "import math\n",
    "def list_ceil(x):\n",
    "    return[math.ceil(i) for i in x]\n",
    "print(\"P_Values :\")\n",
    "print(np.round(fs.pvalues_,4))\n",
    "print(\"F Values :\")\n",
    "print(fs.scores_)\n"
   ]
  },
  {
   "cell_type": "code",
   "execution_count": 38,
   "metadata": {
    "execution": {
     "iopub.execute_input": "2023-08-27T11:22:42.968411Z",
     "iopub.status.busy": "2023-08-27T11:22:42.967185Z",
     "iopub.status.idle": "2023-08-27T11:22:42.975182Z",
     "shell.execute_reply": "2023-08-27T11:22:42.974142Z",
     "shell.execute_reply.started": "2023-08-27T11:22:42.968370Z"
    }
   },
   "outputs": [
    {
     "data": {
      "text/plain": [
       "[2, 1, 6, 1, 1, 1]"
      ]
     },
     "execution_count": 38,
     "metadata": {},
     "output_type": "execute_result"
    }
   ],
   "source": [
    "list_ceil(fs.scores_)"
   ]
  },
  {
   "cell_type": "code",
   "execution_count": 39,
   "metadata": {
    "execution": {
     "iopub.execute_input": "2023-08-27T11:22:43.614385Z",
     "iopub.status.busy": "2023-08-27T11:22:43.613996Z",
     "iopub.status.idle": "2023-08-27T11:22:43.629868Z",
     "shell.execute_reply": "2023-08-27T11:22:43.628664Z",
     "shell.execute_reply.started": "2023-08-27T11:22:43.614355Z"
    }
   },
   "outputs": [
    {
     "name": "stdout",
     "output_type": "stream",
     "text": [
      "  Input_Features     Score  P_Value\n",
      "2       Location  5.295584   0.0214\n",
      "0            Age  1.683970   0.1944\n",
      "4   Monthly_Bill  0.732632   0.3920\n"
     ]
    }
   ],
   "source": [
    "features_score = pd.DataFrame(fs.scores_)\n",
    "features_pvalue = pd.DataFrame(np.round(fs.pvalues_,4))\n",
    "features = pd.DataFrame(x_train.columns)\n",
    "feature_score = pd.concat([features,features_score,features_pvalue],axis=1)\n",
    "# Assign the column name\n",
    "feature_score.columns = [\"Input_Features\",\"Score\",\"P_Value\"]\n",
    "print(feature_score.nlargest(3,columns=\"Score\"))"
   ]
  },
  {
   "cell_type": "code",
   "execution_count": 40,
   "metadata": {
    "execution": {
     "iopub.execute_input": "2023-08-27T11:22:44.922116Z",
     "iopub.status.busy": "2023-08-27T11:22:44.921715Z",
     "iopub.status.idle": "2023-08-27T11:22:44.928585Z",
     "shell.execute_reply": "2023-08-27T11:22:44.927517Z",
     "shell.execute_reply.started": "2023-08-27T11:22:44.922085Z"
    }
   },
   "outputs": [
    {
     "name": "stdout",
     "output_type": "stream",
     "text": [
      "total features: 6\n",
      "selected features: 3\n"
     ]
    }
   ],
   "source": [
    "# let's print some stats\n",
    "print('total features: {}'.format((x_train.shape[1])))\n",
    "print('selected features: {}'.format(len(selected_feat)))"
   ]
  },
  {
   "cell_type": "code",
   "execution_count": 41,
   "metadata": {
    "execution": {
     "iopub.execute_input": "2023-08-27T11:22:45.357009Z",
     "iopub.status.busy": "2023-08-27T11:22:45.355828Z",
     "iopub.status.idle": "2023-08-27T11:22:45.364755Z",
     "shell.execute_reply": "2023-08-27T11:22:45.363732Z",
     "shell.execute_reply.started": "2023-08-27T11:22:45.356963Z"
    }
   },
   "outputs": [
    {
     "data": {
      "text/plain": [
       "Index(['Age', 'Gender', 'Location', 'Subscription_Length_Months',\n",
       "       'Monthly_Bill', 'Total_Usage_GB', 'Churn'],\n",
       "      dtype='object')"
      ]
     },
     "execution_count": 41,
     "metadata": {},
     "output_type": "execute_result"
    }
   ],
   "source": [
    "data.columns"
   ]
  },
  {
   "cell_type": "code",
   "execution_count": 42,
   "metadata": {
    "execution": {
     "iopub.execute_input": "2023-08-27T11:22:46.003753Z",
     "iopub.status.busy": "2023-08-27T11:22:46.003317Z",
     "iopub.status.idle": "2023-08-27T11:22:46.010798Z",
     "shell.execute_reply": "2023-08-27T11:22:46.009771Z",
     "shell.execute_reply.started": "2023-08-27T11:22:46.003720Z"
    }
   },
   "outputs": [
    {
     "data": {
      "text/plain": [
       "Index(['Age', 'Location', 'Monthly_Bill'], dtype='object')"
      ]
     },
     "execution_count": 42,
     "metadata": {},
     "output_type": "execute_result"
    }
   ],
   "source": [
    "selected_feat"
   ]
  },
  {
   "cell_type": "code",
   "execution_count": 43,
   "metadata": {
    "execution": {
     "iopub.execute_input": "2023-08-27T11:22:46.765406Z",
     "iopub.status.busy": "2023-08-27T11:22:46.764973Z",
     "iopub.status.idle": "2023-08-27T11:22:46.772593Z",
     "shell.execute_reply": "2023-08-27T11:22:46.771230Z",
     "shell.execute_reply.started": "2023-08-27T11:22:46.765362Z"
    }
   },
   "outputs": [],
   "source": [
    "x_train = x_train[selected_feat]\n",
    "x_test = x_test[selected_feat]"
   ]
  },
  {
   "cell_type": "code",
   "execution_count": 44,
   "metadata": {
    "execution": {
     "iopub.execute_input": "2023-08-27T11:22:47.600611Z",
     "iopub.status.busy": "2023-08-27T11:22:47.600069Z",
     "iopub.status.idle": "2023-08-27T11:22:47.613344Z",
     "shell.execute_reply": "2023-08-27T11:22:47.611971Z",
     "shell.execute_reply.started": "2023-08-27T11:22:47.600574Z"
    }
   },
   "outputs": [
    {
     "data": {
      "text/html": [
       "<div>\n",
       "<style scoped>\n",
       "    .dataframe tbody tr th:only-of-type {\n",
       "        vertical-align: middle;\n",
       "    }\n",
       "\n",
       "    .dataframe tbody tr th {\n",
       "        vertical-align: top;\n",
       "    }\n",
       "\n",
       "    .dataframe thead th {\n",
       "        text-align: right;\n",
       "    }\n",
       "</style>\n",
       "<table border=\"1\" class=\"dataframe\">\n",
       "  <thead>\n",
       "    <tr style=\"text-align: right;\">\n",
       "      <th></th>\n",
       "      <th>Age</th>\n",
       "      <th>Location</th>\n",
       "      <th>Monthly_Bill</th>\n",
       "    </tr>\n",
       "  </thead>\n",
       "  <tbody>\n",
       "    <tr>\n",
       "      <th>59428</th>\n",
       "      <td>45</td>\n",
       "      <td>0</td>\n",
       "      <td>31.67</td>\n",
       "    </tr>\n",
       "    <tr>\n",
       "      <th>34957</th>\n",
       "      <td>68</td>\n",
       "      <td>1</td>\n",
       "      <td>63.26</td>\n",
       "    </tr>\n",
       "    <tr>\n",
       "      <th>4264</th>\n",
       "      <td>28</td>\n",
       "      <td>2</td>\n",
       "      <td>53.31</td>\n",
       "    </tr>\n",
       "    <tr>\n",
       "      <th>53791</th>\n",
       "      <td>58</td>\n",
       "      <td>3</td>\n",
       "      <td>91.08</td>\n",
       "    </tr>\n",
       "    <tr>\n",
       "      <th>82114</th>\n",
       "      <td>56</td>\n",
       "      <td>1</td>\n",
       "      <td>53.19</td>\n",
       "    </tr>\n",
       "  </tbody>\n",
       "</table>\n",
       "</div>"
      ],
      "text/plain": [
       "       Age  Location  Monthly_Bill\n",
       "59428   45         0         31.67\n",
       "34957   68         1         63.26\n",
       "4264    28         2         53.31\n",
       "53791   58         3         91.08\n",
       "82114   56         1         53.19"
      ]
     },
     "execution_count": 44,
     "metadata": {},
     "output_type": "execute_result"
    }
   ],
   "source": [
    "x_train.head()\n"
   ]
  },
  {
   "cell_type": "code",
   "execution_count": 45,
   "metadata": {
    "execution": {
     "iopub.execute_input": "2023-08-27T11:22:48.344568Z",
     "iopub.status.busy": "2023-08-27T11:22:48.343517Z",
     "iopub.status.idle": "2023-08-27T11:22:48.354013Z",
     "shell.execute_reply": "2023-08-27T11:22:48.352928Z",
     "shell.execute_reply.started": "2023-08-27T11:22:48.344518Z"
    }
   },
   "outputs": [
    {
     "data": {
      "text/plain": [
       "59428    1\n",
       "34957    0\n",
       "4264     1\n",
       "53791    1\n",
       "82114    1\n",
       "Name: Churn, dtype: int64"
      ]
     },
     "execution_count": 45,
     "metadata": {},
     "output_type": "execute_result"
    }
   ],
   "source": [
    "y_train.head()\n"
   ]
  },
  {
   "cell_type": "markdown",
   "metadata": {},
   "source": [
    "## Trying out various classifiers on the cleaned dataset"
   ]
  },
  {
   "cell_type": "code",
   "execution_count": 46,
   "metadata": {
    "execution": {
     "iopub.execute_input": "2023-08-27T11:22:49.901999Z",
     "iopub.status.busy": "2023-08-27T11:22:49.901569Z",
     "iopub.status.idle": "2023-08-27T11:23:30.416115Z",
     "shell.execute_reply": "2023-08-27T11:23:30.414700Z",
     "shell.execute_reply.started": "2023-08-27T11:22:49.901964Z"
    }
   },
   "outputs": [
    {
     "name": "stdout",
     "output_type": "stream",
     "text": [
      "\n",
      "Decision Tree Classifier\n",
      "              precision    recall  f1-score   support\n",
      "\n",
      "           0       0.51      0.51      0.51     16638\n",
      "           1       0.50      0.49      0.50     16362\n",
      "\n",
      "    accuracy                           0.50     33000\n",
      "   macro avg       0.50      0.50      0.50     33000\n",
      "weighted avg       0.50      0.50      0.50     33000\n",
      "\n",
      "\n",
      "Random Forest Classifier\n",
      "              precision    recall  f1-score   support\n",
      "\n",
      "           0       0.50      0.50      0.50     16638\n",
      "           1       0.50      0.50      0.50     16362\n",
      "\n",
      "    accuracy                           0.50     33000\n",
      "   macro avg       0.50      0.50      0.50     33000\n",
      "weighted avg       0.50      0.50      0.50     33000\n",
      "\n",
      "\n",
      "XGBoost Classifier\n",
      "              precision    recall  f1-score   support\n",
      "\n",
      "           0       0.50      0.50      0.50     16638\n",
      "           1       0.49      0.49      0.49     16362\n",
      "\n",
      "    accuracy                           0.50     33000\n",
      "   macro avg       0.50      0.50      0.50     33000\n",
      "weighted avg       0.50      0.50      0.50     33000\n",
      "\n",
      "\n",
      "Gradient Classifier\n",
      "              precision    recall  f1-score   support\n",
      "\n",
      "           0       0.51      0.52      0.52     16638\n",
      "           1       0.50      0.49      0.49     16362\n",
      "\n",
      "    accuracy                           0.50     33000\n",
      "   macro avg       0.50      0.50      0.50     33000\n",
      "weighted avg       0.50      0.50      0.50     33000\n",
      "\n",
      "\n",
      "Extra Trees Classifier\n",
      "              precision    recall  f1-score   support\n",
      "\n",
      "           0       0.50      0.50      0.50     16638\n",
      "           1       0.50      0.50      0.50     16362\n",
      "\n",
      "    accuracy                           0.50     33000\n",
      "   macro avg       0.50      0.50      0.50     33000\n",
      "weighted avg       0.50      0.50      0.50     33000\n",
      "\n",
      "\n",
      "Logistic Regression\n",
      "              precision    recall  f1-score   support\n",
      "\n",
      "           0       0.51      0.58      0.54     16638\n",
      "           1       0.50      0.42      0.46     16362\n",
      "\n",
      "    accuracy                           0.50     33000\n",
      "   macro avg       0.50      0.50      0.50     33000\n",
      "weighted avg       0.50      0.50      0.50     33000\n",
      "\n"
     ]
    }
   ],
   "source": [
    "from sklearn.ensemble import GradientBoostingClassifier\n",
    "from sklearn.ensemble import RandomForestClassifier\n",
    "from sklearn.linear_model import LogisticRegression\n",
    "from sklearn.ensemble import VotingRegressor\n",
    "from sklearn.tree import DecisionTreeClassifier\n",
    "from sklearn.ensemble import ExtraTreesClassifier\n",
    "from xgboost import XGBClassifier\n",
    "from catboost import CatBoostClassifier\n",
    "import matplotlib.pyplot as plt\n",
    "\n",
    "\n",
    "from sklearn.metrics import mean_absolute_error,r2_score,classification_report,confusion_matrix\n",
    "\n",
    "\n",
    "def train_model(m,name):\n",
    "    model = m\n",
    "    model.fit(x_train, y_train)\n",
    "    predictions = model.predict(x_test)\n",
    "    print(f\"\\n{name}\")\n",
    "    print(classification_report(y_test, predictions))\n",
    "\n",
    "\n",
    "\n",
    "train_model(DecisionTreeClassifier(),\"Decision Tree Classifier\")\n",
    "train_model(RandomForestClassifier(random_state=3),\"Random Forest Classifier\")   \n",
    "train_model(XGBClassifier(n_estimators=600),\"XGBoost Classifier\")   \n",
    "train_model(GradientBoostingClassifier(random_state=1),\"Gradient Classifier\")   \n",
    "train_model(ExtraTreesClassifier(),\"Extra Trees Classifier\")   \n",
    "train_model(LogisticRegression(),\"Logistic Regression\")\n"
   ]
  },
  {
   "cell_type": "markdown",
   "metadata": {},
   "source": [
    "#### Here we can see that all the classifier is giving 50%, so we would try to find better way for model building"
   ]
  },
  {
   "cell_type": "markdown",
   "metadata": {},
   "source": [
    "### Using SMOTEENN "
   ]
  },
  {
   "cell_type": "code",
   "execution_count": 47,
   "metadata": {
    "execution": {
     "iopub.execute_input": "2023-08-27T11:23:46.296527Z",
     "iopub.status.busy": "2023-08-27T11:23:46.296124Z",
     "iopub.status.idle": "2023-08-27T11:23:46.503270Z",
     "shell.execute_reply": "2023-08-27T11:23:46.502221Z",
     "shell.execute_reply.started": "2023-08-27T11:23:46.296494Z"
    }
   },
   "outputs": [],
   "source": [
    "from imblearn.combine import SMOTEENN\n"
   ]
  },
  {
   "cell_type": "code",
   "execution_count": 48,
   "metadata": {
    "execution": {
     "iopub.execute_input": "2023-08-27T11:23:46.830205Z",
     "iopub.status.busy": "2023-08-27T11:23:46.829830Z",
     "iopub.status.idle": "2023-08-27T11:23:47.367316Z",
     "shell.execute_reply": "2023-08-27T11:23:47.366142Z",
     "shell.execute_reply.started": "2023-08-27T11:23:46.830177Z"
    }
   },
   "outputs": [],
   "source": [
    "sm = SMOTEENN()\n",
    "X_resampled, y_resampled = sm.fit_resample(x_train,y_train)\n",
    "xr_train,xr_test,yr_train,yr_test=train_test_split(X_resampled, y_resampled,test_size=0.2)"
   ]
  },
  {
   "cell_type": "code",
   "execution_count": 49,
   "metadata": {
    "execution": {
     "iopub.execute_input": "2023-08-27T11:23:48.737657Z",
     "iopub.status.busy": "2023-08-27T11:23:48.737225Z",
     "iopub.status.idle": "2023-08-27T11:23:48.743653Z",
     "shell.execute_reply": "2023-08-27T11:23:48.742783Z",
     "shell.execute_reply.started": "2023-08-27T11:23:48.737621Z"
    }
   },
   "outputs": [],
   "source": [
    "def train_model_Smoteenn(m,name):\n",
    "    xr_train,xr_test,yr_train,yr_test=train_test_split(X_resampled, y_resampled,test_size=0.2)\n",
    "    model_dt_smote = m\n",
    "    model_dt_smote.fit(xr_train,yr_train)\n",
    "    yr_predict = model_dt_smote.predict(xr_test)\n",
    "    model_score_r = model_dt_smote.score(xr_test, yr_test)\n",
    "    print(name)\n",
    "    print(classification_report(yr_test, yr_predict))"
   ]
  },
  {
   "cell_type": "code",
   "execution_count": 50,
   "metadata": {
    "execution": {
     "iopub.execute_input": "2023-08-27T11:23:49.976411Z",
     "iopub.status.busy": "2023-08-27T11:23:49.975424Z",
     "iopub.status.idle": "2023-08-27T11:23:55.066470Z",
     "shell.execute_reply": "2023-08-27T11:23:55.062406Z",
     "shell.execute_reply.started": "2023-08-27T11:23:49.976374Z"
    }
   },
   "outputs": [
    {
     "name": "stdout",
     "output_type": "stream",
     "text": [
      "Decision Tree Classifier\n",
      "              precision    recall  f1-score   support\n",
      "\n",
      "           0       0.84      0.85      0.85       827\n",
      "           1       0.86      0.85      0.85       882\n",
      "\n",
      "    accuracy                           0.85      1709\n",
      "   macro avg       0.85      0.85      0.85      1709\n",
      "weighted avg       0.85      0.85      0.85      1709\n",
      "\n",
      "Random Forest Classifier\n",
      "              precision    recall  f1-score   support\n",
      "\n",
      "           0       0.89      0.89      0.89       865\n",
      "           1       0.89      0.88      0.89       844\n",
      "\n",
      "    accuracy                           0.89      1709\n",
      "   macro avg       0.89      0.89      0.89      1709\n",
      "weighted avg       0.89      0.89      0.89      1709\n",
      "\n",
      "XGBoost Classifier\n",
      "              precision    recall  f1-score   support\n",
      "\n",
      "           0       0.77      0.81      0.79       843\n",
      "           1       0.80      0.77      0.79       866\n",
      "\n",
      "    accuracy                           0.79      1709\n",
      "   macro avg       0.79      0.79      0.79      1709\n",
      "weighted avg       0.79      0.79      0.79      1709\n",
      "\n",
      "Gradient Classifier\n",
      "              precision    recall  f1-score   support\n",
      "\n",
      "           0       0.58      0.61      0.59       863\n",
      "           1       0.58      0.54      0.56       846\n",
      "\n",
      "    accuracy                           0.58      1709\n",
      "   macro avg       0.58      0.58      0.58      1709\n",
      "weighted avg       0.58      0.58      0.58      1709\n",
      "\n",
      "Extra Trees Classifier\n",
      "              precision    recall  f1-score   support\n",
      "\n",
      "           0       0.91      0.91      0.91       892\n",
      "           1       0.90      0.91      0.90       817\n",
      "\n",
      "    accuracy                           0.91      1709\n",
      "   macro avg       0.91      0.91      0.91      1709\n",
      "weighted avg       0.91      0.91      0.91      1709\n",
      "\n",
      "Logistic Regression\n",
      "              precision    recall  f1-score   support\n",
      "\n",
      "           0       0.50      0.63      0.56       845\n",
      "           1       0.52      0.39      0.45       864\n",
      "\n",
      "    accuracy                           0.51      1709\n",
      "   macro avg       0.51      0.51      0.50      1709\n",
      "weighted avg       0.51      0.51      0.50      1709\n",
      "\n"
     ]
    }
   ],
   "source": [
    "train_model_Smoteenn(DecisionTreeClassifier(),\"Decision Tree Classifier\")\n",
    "train_model_Smoteenn(RandomForestClassifier(random_state=3),\"Random Forest Classifier\")   \n",
    "train_model_Smoteenn(XGBClassifier(n_estimators=600),\"XGBoost Classifier\")   \n",
    "train_model_Smoteenn(GradientBoostingClassifier(random_state=1),\"Gradient Classifier\")   \n",
    "train_model_Smoteenn(ExtraTreesClassifier(),\"Extra Trees Classifier\")   \n",
    "train_model_Smoteenn(LogisticRegression(),\"Logistic Regression\")"
   ]
  },
  {
   "cell_type": "markdown",
   "metadata": {},
   "source": [
    "#### By using SMOTEENN we are getting much better result, Extra Trees Classifier has provided 91% accuracy with SMOTEENN so I am chosing it as the final model"
   ]
  },
  {
   "cell_type": "code",
   "execution_count": 51,
   "metadata": {
    "execution": {
     "iopub.execute_input": "2023-08-27T11:25:59.573432Z",
     "iopub.status.busy": "2023-08-27T11:25:59.572988Z",
     "iopub.status.idle": "2023-08-27T11:26:00.389533Z",
     "shell.execute_reply": "2023-08-27T11:26:00.388330Z",
     "shell.execute_reply.started": "2023-08-27T11:25:59.573399Z"
    }
   },
   "outputs": [
    {
     "name": "stdout",
     "output_type": "stream",
     "text": [
      "Extra Trees Classifier\n",
      "              precision    recall  f1-score   support\n",
      "\n",
      "           0       0.89      0.91      0.90       832\n",
      "           1       0.92      0.89      0.90       877\n",
      "\n",
      "    accuracy                           0.90      1709\n",
      "   macro avg       0.90      0.90      0.90      1709\n",
      "weighted avg       0.90      0.90      0.90      1709\n",
      "\n"
     ]
    }
   ],
   "source": [
    "xr_train,xr_test,yr_train,yr_test=train_test_split(X_resampled, y_resampled,test_size=0.2)\n",
    "model_dt_smote = ExtraTreesClassifier()\n",
    "model_dt_smote.fit(xr_train,yr_train)\n",
    "yr_predict = model_dt_smote.predict(xr_test)\n",
    "model_score_r = model_dt_smote.score(xr_test, yr_test)\n",
    "print('Extra Trees Classifier')\n",
    "print(classification_report(yr_test, yr_predict))"
   ]
  },
  {
   "cell_type": "code",
   "execution_count": 52,
   "metadata": {
    "execution": {
     "iopub.execute_input": "2023-08-27T11:26:03.483807Z",
     "iopub.status.busy": "2023-08-27T11:26:03.483351Z",
     "iopub.status.idle": "2023-08-27T11:26:03.494189Z",
     "shell.execute_reply": "2023-08-27T11:26:03.492815Z",
     "shell.execute_reply.started": "2023-08-27T11:26:03.483772Z"
    }
   },
   "outputs": [
    {
     "name": "stdout",
     "output_type": "stream",
     "text": [
      "[[761  71]\n",
      " [ 94 783]]\n"
     ]
    }
   ],
   "source": [
    "print(confusion_matrix(yr_test, yr_predict))"
   ]
  },
  {
   "cell_type": "markdown",
   "metadata": {},
   "source": [
    "# Saving model as a pickle file"
   ]
  },
  {
   "cell_type": "code",
   "execution_count": 53,
   "metadata": {
    "execution": {
     "iopub.execute_input": "2023-08-27T11:28:29.185608Z",
     "iopub.status.busy": "2023-08-27T11:28:29.185209Z",
     "iopub.status.idle": "2023-08-27T11:28:29.243710Z",
     "shell.execute_reply": "2023-08-27T11:28:29.242692Z",
     "shell.execute_reply.started": "2023-08-27T11:28:29.185577Z"
    }
   },
   "outputs": [],
   "source": [
    "import pickle\n",
    "\n",
    "filename = 'model.pkl'\n",
    "\n",
    "pickle.dump(model_dt_smote, open(filename, 'wb'))"
   ]
  },
  {
   "cell_type": "markdown",
   "metadata": {},
   "source": [
    "### The saved model is working Correctly"
   ]
  },
  {
   "cell_type": "code",
   "execution_count": 54,
   "metadata": {
    "execution": {
     "iopub.execute_input": "2023-08-27T11:28:30.390220Z",
     "iopub.status.busy": "2023-08-27T11:28:30.389838Z",
     "iopub.status.idle": "2023-08-27T11:28:30.501399Z",
     "shell.execute_reply": "2023-08-27T11:28:30.500238Z",
     "shell.execute_reply.started": "2023-08-27T11:28:30.390190Z"
    }
   },
   "outputs": [
    {
     "name": "stdout",
     "output_type": "stream",
     "text": [
      "Extra Trees Classifier\n",
      "              precision    recall  f1-score   support\n",
      "\n",
      "           0       0.89      0.91      0.90       832\n",
      "           1       0.92      0.89      0.90       877\n",
      "\n",
      "    accuracy                           0.90      1709\n",
      "   macro avg       0.90      0.90      0.90      1709\n",
      "weighted avg       0.90      0.90      0.90      1709\n",
      "\n"
     ]
    }
   ],
   "source": [
    "load_model = pickle.load(open(filename, 'rb'))\n",
    "\n",
    "model_score_r = load_model.score(xr_test, yr_test)\n",
    "\n",
    "print('Extra Trees Classifier')\n",
    "print(classification_report(yr_test, yr_predict))"
   ]
  },
  {
   "cell_type": "markdown",
   "metadata": {},
   "source": [
    "### Making a preprocessor pipeline"
   ]
  },
  {
   "cell_type": "code",
   "execution_count": 55,
   "metadata": {
    "execution": {
     "iopub.execute_input": "2023-08-27T11:32:31.242080Z",
     "iopub.status.busy": "2023-08-27T11:32:31.241362Z",
     "iopub.status.idle": "2023-08-27T11:32:31.266142Z",
     "shell.execute_reply": "2023-08-27T11:32:31.264977Z",
     "shell.execute_reply.started": "2023-08-27T11:32:31.242029Z"
    }
   },
   "outputs": [
    {
     "data": {
      "text/html": [
       "<div>\n",
       "<style scoped>\n",
       "    .dataframe tbody tr th:only-of-type {\n",
       "        vertical-align: middle;\n",
       "    }\n",
       "\n",
       "    .dataframe tbody tr th {\n",
       "        vertical-align: top;\n",
       "    }\n",
       "\n",
       "    .dataframe thead th {\n",
       "        text-align: right;\n",
       "    }\n",
       "</style>\n",
       "<table border=\"1\" class=\"dataframe\">\n",
       "  <thead>\n",
       "    <tr style=\"text-align: right;\">\n",
       "      <th></th>\n",
       "      <th>Age</th>\n",
       "      <th>Location</th>\n",
       "      <th>Monthly_Bill</th>\n",
       "      <th>Churn</th>\n",
       "    </tr>\n",
       "  </thead>\n",
       "  <tbody>\n",
       "    <tr>\n",
       "      <th>0</th>\n",
       "      <td>63</td>\n",
       "      <td>Los Angeles</td>\n",
       "      <td>73.36</td>\n",
       "      <td>0</td>\n",
       "    </tr>\n",
       "    <tr>\n",
       "      <th>1</th>\n",
       "      <td>62</td>\n",
       "      <td>New York</td>\n",
       "      <td>48.76</td>\n",
       "      <td>0</td>\n",
       "    </tr>\n",
       "    <tr>\n",
       "      <th>2</th>\n",
       "      <td>24</td>\n",
       "      <td>Los Angeles</td>\n",
       "      <td>85.47</td>\n",
       "      <td>0</td>\n",
       "    </tr>\n",
       "    <tr>\n",
       "      <th>3</th>\n",
       "      <td>36</td>\n",
       "      <td>Miami</td>\n",
       "      <td>97.94</td>\n",
       "      <td>1</td>\n",
       "    </tr>\n",
       "    <tr>\n",
       "      <th>4</th>\n",
       "      <td>46</td>\n",
       "      <td>Miami</td>\n",
       "      <td>58.14</td>\n",
       "      <td>0</td>\n",
       "    </tr>\n",
       "    <tr>\n",
       "      <th>...</th>\n",
       "      <td>...</td>\n",
       "      <td>...</td>\n",
       "      <td>...</td>\n",
       "      <td>...</td>\n",
       "    </tr>\n",
       "    <tr>\n",
       "      <th>99995</th>\n",
       "      <td>33</td>\n",
       "      <td>Houston</td>\n",
       "      <td>55.13</td>\n",
       "      <td>1</td>\n",
       "    </tr>\n",
       "    <tr>\n",
       "      <th>99996</th>\n",
       "      <td>62</td>\n",
       "      <td>New York</td>\n",
       "      <td>61.65</td>\n",
       "      <td>0</td>\n",
       "    </tr>\n",
       "    <tr>\n",
       "      <th>99997</th>\n",
       "      <td>64</td>\n",
       "      <td>Chicago</td>\n",
       "      <td>96.11</td>\n",
       "      <td>1</td>\n",
       "    </tr>\n",
       "    <tr>\n",
       "      <th>99998</th>\n",
       "      <td>51</td>\n",
       "      <td>New York</td>\n",
       "      <td>49.25</td>\n",
       "      <td>1</td>\n",
       "    </tr>\n",
       "    <tr>\n",
       "      <th>99999</th>\n",
       "      <td>27</td>\n",
       "      <td>Los Angeles</td>\n",
       "      <td>76.57</td>\n",
       "      <td>1</td>\n",
       "    </tr>\n",
       "  </tbody>\n",
       "</table>\n",
       "<p>100000 rows × 4 columns</p>\n",
       "</div>"
      ],
      "text/plain": [
       "       Age     Location  Monthly_Bill  Churn\n",
       "0       63  Los Angeles         73.36      0\n",
       "1       62     New York         48.76      0\n",
       "2       24  Los Angeles         85.47      0\n",
       "3       36        Miami         97.94      1\n",
       "4       46        Miami         58.14      0\n",
       "...    ...          ...           ...    ...\n",
       "99995   33      Houston         55.13      1\n",
       "99996   62     New York         61.65      0\n",
       "99997   64      Chicago         96.11      1\n",
       "99998   51     New York         49.25      1\n",
       "99999   27  Los Angeles         76.57      1\n",
       "\n",
       "[100000 rows x 4 columns]"
      ]
     },
     "execution_count": 55,
     "metadata": {},
     "output_type": "execute_result"
    }
   ],
   "source": [
    "dataset[['Age','Location','Monthly_Bill','Churn']]"
   ]
  },
  {
   "cell_type": "code",
   "execution_count": 56,
   "metadata": {
    "execution": {
     "iopub.execute_input": "2023-08-27T11:30:43.093644Z",
     "iopub.status.busy": "2023-08-27T11:30:43.093201Z",
     "iopub.status.idle": "2023-08-27T11:30:43.131817Z",
     "shell.execute_reply": "2023-08-27T11:30:43.130821Z",
     "shell.execute_reply.started": "2023-08-27T11:30:43.093607Z"
    }
   },
   "outputs": [],
   "source": [
    "# Custom Transformer to preprocess categorical features\n",
    "class CategoricalFeatureProcessor(BaseEstimator, TransformerMixin):\n",
    "    def fit(self, X, y=None):\n",
    "        self.labels_mappings = {}\n",
    "        for feature in categorical_features:\n",
    "            labels_ordered = X.groupby([feature])['Churn'].mean().sort_values().index\n",
    "            self.labels_mappings[feature] = {label: index for index, label in enumerate(labels_ordered)}\n",
    "        return self\n",
    "    \n",
    "    def transform(self, X):\n",
    "        X_transformed = X.copy()\n",
    "        for feature in categorical_features:\n",
    "            X_transformed[feature] = X_transformed[feature].map(self.labels_mappings[feature])\n",
    "        return X_transformed\n",
    "\n",
    "# Define categorical features\n",
    "categorical_features = ['Location']\n",
    "\n",
    "# Create a pipeline\n",
    "pipeline = Pipeline([\n",
    "    ('categorical_processor', CategoricalFeatureProcessor())\n",
    "])\n",
    "\n",
    "\n",
    "\n",
    "# Fit and transform the dataset using the pipeline\n",
    "preprocessed_data = pipeline.fit_transform(dataset[['Age','Location','Monthly_Bill','Churn']])"
   ]
  },
  {
   "cell_type": "code",
   "execution_count": 57,
   "metadata": {
    "execution": {
     "iopub.execute_input": "2023-08-27T11:31:09.721388Z",
     "iopub.status.busy": "2023-08-27T11:31:09.720966Z",
     "iopub.status.idle": "2023-08-27T11:31:09.738975Z",
     "shell.execute_reply": "2023-08-27T11:31:09.738106Z",
     "shell.execute_reply.started": "2023-08-27T11:31:09.721353Z"
    }
   },
   "outputs": [
    {
     "data": {
      "text/html": [
       "<div>\n",
       "<style scoped>\n",
       "    .dataframe tbody tr th:only-of-type {\n",
       "        vertical-align: middle;\n",
       "    }\n",
       "\n",
       "    .dataframe tbody tr th {\n",
       "        vertical-align: top;\n",
       "    }\n",
       "\n",
       "    .dataframe thead th {\n",
       "        text-align: right;\n",
       "    }\n",
       "</style>\n",
       "<table border=\"1\" class=\"dataframe\">\n",
       "  <thead>\n",
       "    <tr style=\"text-align: right;\">\n",
       "      <th></th>\n",
       "      <th>Age</th>\n",
       "      <th>Location</th>\n",
       "      <th>Monthly_Bill</th>\n",
       "      <th>Churn</th>\n",
       "    </tr>\n",
       "  </thead>\n",
       "  <tbody>\n",
       "    <tr>\n",
       "      <th>0</th>\n",
       "      <td>63</td>\n",
       "      <td>1</td>\n",
       "      <td>73.36</td>\n",
       "      <td>0</td>\n",
       "    </tr>\n",
       "    <tr>\n",
       "      <th>1</th>\n",
       "      <td>62</td>\n",
       "      <td>4</td>\n",
       "      <td>48.76</td>\n",
       "      <td>0</td>\n",
       "    </tr>\n",
       "    <tr>\n",
       "      <th>2</th>\n",
       "      <td>24</td>\n",
       "      <td>1</td>\n",
       "      <td>85.47</td>\n",
       "      <td>0</td>\n",
       "    </tr>\n",
       "    <tr>\n",
       "      <th>3</th>\n",
       "      <td>36</td>\n",
       "      <td>3</td>\n",
       "      <td>97.94</td>\n",
       "      <td>1</td>\n",
       "    </tr>\n",
       "    <tr>\n",
       "      <th>4</th>\n",
       "      <td>46</td>\n",
       "      <td>3</td>\n",
       "      <td>58.14</td>\n",
       "      <td>0</td>\n",
       "    </tr>\n",
       "    <tr>\n",
       "      <th>...</th>\n",
       "      <td>...</td>\n",
       "      <td>...</td>\n",
       "      <td>...</td>\n",
       "      <td>...</td>\n",
       "    </tr>\n",
       "    <tr>\n",
       "      <th>99995</th>\n",
       "      <td>33</td>\n",
       "      <td>0</td>\n",
       "      <td>55.13</td>\n",
       "      <td>1</td>\n",
       "    </tr>\n",
       "    <tr>\n",
       "      <th>99996</th>\n",
       "      <td>62</td>\n",
       "      <td>4</td>\n",
       "      <td>61.65</td>\n",
       "      <td>0</td>\n",
       "    </tr>\n",
       "    <tr>\n",
       "      <th>99997</th>\n",
       "      <td>64</td>\n",
       "      <td>2</td>\n",
       "      <td>96.11</td>\n",
       "      <td>1</td>\n",
       "    </tr>\n",
       "    <tr>\n",
       "      <th>99998</th>\n",
       "      <td>51</td>\n",
       "      <td>4</td>\n",
       "      <td>49.25</td>\n",
       "      <td>1</td>\n",
       "    </tr>\n",
       "    <tr>\n",
       "      <th>99999</th>\n",
       "      <td>27</td>\n",
       "      <td>1</td>\n",
       "      <td>76.57</td>\n",
       "      <td>1</td>\n",
       "    </tr>\n",
       "  </tbody>\n",
       "</table>\n",
       "<p>100000 rows × 4 columns</p>\n",
       "</div>"
      ],
      "text/plain": [
       "       Age  Location  Monthly_Bill  Churn\n",
       "0       63         1         73.36      0\n",
       "1       62         4         48.76      0\n",
       "2       24         1         85.47      0\n",
       "3       36         3         97.94      1\n",
       "4       46         3         58.14      0\n",
       "...    ...       ...           ...    ...\n",
       "99995   33         0         55.13      1\n",
       "99996   62         4         61.65      0\n",
       "99997   64         2         96.11      1\n",
       "99998   51         4         49.25      1\n",
       "99999   27         1         76.57      1\n",
       "\n",
       "[100000 rows x 4 columns]"
      ]
     },
     "execution_count": 57,
     "metadata": {},
     "output_type": "execute_result"
    }
   ],
   "source": [
    "data[['Age','Location','Monthly_Bill','Churn']]\n"
   ]
  },
  {
   "cell_type": "code",
   "execution_count": 58,
   "metadata": {
    "execution": {
     "iopub.execute_input": "2023-08-27T11:30:57.326129Z",
     "iopub.status.busy": "2023-08-27T11:30:57.325714Z",
     "iopub.status.idle": "2023-08-27T11:30:57.344303Z",
     "shell.execute_reply": "2023-08-27T11:30:57.343031Z",
     "shell.execute_reply.started": "2023-08-27T11:30:57.326096Z"
    }
   },
   "outputs": [
    {
     "data": {
      "text/html": [
       "<div>\n",
       "<style scoped>\n",
       "    .dataframe tbody tr th:only-of-type {\n",
       "        vertical-align: middle;\n",
       "    }\n",
       "\n",
       "    .dataframe tbody tr th {\n",
       "        vertical-align: top;\n",
       "    }\n",
       "\n",
       "    .dataframe thead th {\n",
       "        text-align: right;\n",
       "    }\n",
       "</style>\n",
       "<table border=\"1\" class=\"dataframe\">\n",
       "  <thead>\n",
       "    <tr style=\"text-align: right;\">\n",
       "      <th></th>\n",
       "      <th>Age</th>\n",
       "      <th>Location</th>\n",
       "      <th>Monthly_Bill</th>\n",
       "      <th>Churn</th>\n",
       "    </tr>\n",
       "  </thead>\n",
       "  <tbody>\n",
       "    <tr>\n",
       "      <th>0</th>\n",
       "      <td>63</td>\n",
       "      <td>1</td>\n",
       "      <td>73.36</td>\n",
       "      <td>0</td>\n",
       "    </tr>\n",
       "    <tr>\n",
       "      <th>1</th>\n",
       "      <td>62</td>\n",
       "      <td>4</td>\n",
       "      <td>48.76</td>\n",
       "      <td>0</td>\n",
       "    </tr>\n",
       "    <tr>\n",
       "      <th>2</th>\n",
       "      <td>24</td>\n",
       "      <td>1</td>\n",
       "      <td>85.47</td>\n",
       "      <td>0</td>\n",
       "    </tr>\n",
       "    <tr>\n",
       "      <th>3</th>\n",
       "      <td>36</td>\n",
       "      <td>3</td>\n",
       "      <td>97.94</td>\n",
       "      <td>1</td>\n",
       "    </tr>\n",
       "    <tr>\n",
       "      <th>4</th>\n",
       "      <td>46</td>\n",
       "      <td>3</td>\n",
       "      <td>58.14</td>\n",
       "      <td>0</td>\n",
       "    </tr>\n",
       "    <tr>\n",
       "      <th>...</th>\n",
       "      <td>...</td>\n",
       "      <td>...</td>\n",
       "      <td>...</td>\n",
       "      <td>...</td>\n",
       "    </tr>\n",
       "    <tr>\n",
       "      <th>99995</th>\n",
       "      <td>33</td>\n",
       "      <td>0</td>\n",
       "      <td>55.13</td>\n",
       "      <td>1</td>\n",
       "    </tr>\n",
       "    <tr>\n",
       "      <th>99996</th>\n",
       "      <td>62</td>\n",
       "      <td>4</td>\n",
       "      <td>61.65</td>\n",
       "      <td>0</td>\n",
       "    </tr>\n",
       "    <tr>\n",
       "      <th>99997</th>\n",
       "      <td>64</td>\n",
       "      <td>2</td>\n",
       "      <td>96.11</td>\n",
       "      <td>1</td>\n",
       "    </tr>\n",
       "    <tr>\n",
       "      <th>99998</th>\n",
       "      <td>51</td>\n",
       "      <td>4</td>\n",
       "      <td>49.25</td>\n",
       "      <td>1</td>\n",
       "    </tr>\n",
       "    <tr>\n",
       "      <th>99999</th>\n",
       "      <td>27</td>\n",
       "      <td>1</td>\n",
       "      <td>76.57</td>\n",
       "      <td>1</td>\n",
       "    </tr>\n",
       "  </tbody>\n",
       "</table>\n",
       "<p>100000 rows × 4 columns</p>\n",
       "</div>"
      ],
      "text/plain": [
       "       Age  Location  Monthly_Bill  Churn\n",
       "0       63         1         73.36      0\n",
       "1       62         4         48.76      0\n",
       "2       24         1         85.47      0\n",
       "3       36         3         97.94      1\n",
       "4       46         3         58.14      0\n",
       "...    ...       ...           ...    ...\n",
       "99995   33         0         55.13      1\n",
       "99996   62         4         61.65      0\n",
       "99997   64         2         96.11      1\n",
       "99998   51         4         49.25      1\n",
       "99999   27         1         76.57      1\n",
       "\n",
       "[100000 rows x 4 columns]"
      ]
     },
     "execution_count": 58,
     "metadata": {},
     "output_type": "execute_result"
    }
   ],
   "source": [
    "preprocessed_data"
   ]
  },
  {
   "cell_type": "markdown",
   "metadata": {},
   "source": [
    "#### As we can see that the pipeline is working correctly, I am going to download it as a pkl file.\n",
    "#### NOTE : I am using 'Churn' parameter in the pipeline just for encoding the categorical values in fitting, the value of Churn parameter won't affect the lable encoding process or other parameters"
   ]
  },
  {
   "cell_type": "code",
   "execution_count": 59,
   "metadata": {
    "execution": {
     "iopub.execute_input": "2023-08-27T11:39:04.636040Z",
     "iopub.status.busy": "2023-08-27T11:39:04.635029Z",
     "iopub.status.idle": "2023-08-27T11:39:04.652954Z",
     "shell.execute_reply": "2023-08-27T11:39:04.651627Z",
     "shell.execute_reply.started": "2023-08-27T11:39:04.635989Z"
    }
   },
   "outputs": [
    {
     "data": {
      "text/html": [
       "<div>\n",
       "<style scoped>\n",
       "    .dataframe tbody tr th:only-of-type {\n",
       "        vertical-align: middle;\n",
       "    }\n",
       "\n",
       "    .dataframe tbody tr th {\n",
       "        vertical-align: top;\n",
       "    }\n",
       "\n",
       "    .dataframe thead th {\n",
       "        text-align: right;\n",
       "    }\n",
       "</style>\n",
       "<table border=\"1\" class=\"dataframe\">\n",
       "  <thead>\n",
       "    <tr style=\"text-align: right;\">\n",
       "      <th></th>\n",
       "      <th>Age</th>\n",
       "      <th>Location</th>\n",
       "      <th>Monthly_Bill</th>\n",
       "    </tr>\n",
       "  </thead>\n",
       "  <tbody>\n",
       "    <tr>\n",
       "      <th>0</th>\n",
       "      <td>45</td>\n",
       "      <td>2</td>\n",
       "      <td>31.67</td>\n",
       "    </tr>\n",
       "  </tbody>\n",
       "</table>\n",
       "</div>"
      ],
      "text/plain": [
       "   Age  Location  Monthly_Bill\n",
       "0   45         2         31.67"
      ]
     },
     "execution_count": 59,
     "metadata": {},
     "output_type": "execute_result"
    }
   ],
   "source": [
    "fea_df = pd.DataFrame([[45, 'Chicago', 31.67, 0]], columns=['Age', 'Location', 'Monthly_Bill', 'Churn'])\n",
    "\n",
    "data_scaled = pipeline.transform(fea_df)\n",
    "\n",
    "data_scaled[['Age', 'Location', 'Monthly_Bill']]"
   ]
  },
  {
   "cell_type": "code",
   "execution_count": 60,
   "metadata": {
    "execution": {
     "iopub.execute_input": "2023-08-27T11:39:04.894106Z",
     "iopub.status.busy": "2023-08-27T11:39:04.893696Z",
     "iopub.status.idle": "2023-08-27T11:39:04.909318Z",
     "shell.execute_reply": "2023-08-27T11:39:04.908102Z",
     "shell.execute_reply.started": "2023-08-27T11:39:04.894074Z"
    }
   },
   "outputs": [
    {
     "data": {
      "text/html": [
       "<div>\n",
       "<style scoped>\n",
       "    .dataframe tbody tr th:only-of-type {\n",
       "        vertical-align: middle;\n",
       "    }\n",
       "\n",
       "    .dataframe tbody tr th {\n",
       "        vertical-align: top;\n",
       "    }\n",
       "\n",
       "    .dataframe thead th {\n",
       "        text-align: right;\n",
       "    }\n",
       "</style>\n",
       "<table border=\"1\" class=\"dataframe\">\n",
       "  <thead>\n",
       "    <tr style=\"text-align: right;\">\n",
       "      <th></th>\n",
       "      <th>Age</th>\n",
       "      <th>Location</th>\n",
       "      <th>Monthly_Bill</th>\n",
       "    </tr>\n",
       "  </thead>\n",
       "  <tbody>\n",
       "    <tr>\n",
       "      <th>0</th>\n",
       "      <td>45</td>\n",
       "      <td>2</td>\n",
       "      <td>31.67</td>\n",
       "    </tr>\n",
       "  </tbody>\n",
       "</table>\n",
       "</div>"
      ],
      "text/plain": [
       "   Age  Location  Monthly_Bill\n",
       "0   45         2         31.67"
      ]
     },
     "execution_count": 60,
     "metadata": {},
     "output_type": "execute_result"
    }
   ],
   "source": [
    "fea_df = pd.DataFrame([[45, 'Chicago', 31.67,1 ]], columns=['Age', 'Location', 'Monthly_Bill', 'Churn'])\n",
    "\n",
    "data_scaled = pipeline.transform(fea_df)\n",
    "\n",
    "data_scaled[['Age', 'Location', 'Monthly_Bill']]"
   ]
  },
  {
   "cell_type": "markdown",
   "metadata": {},
   "source": [
    "#### Here we can see the value of parameter is not affecting the other parameters"
   ]
  },
  {
   "cell_type": "markdown",
   "metadata": {},
   "source": [
    "# Saving the preprocessor"
   ]
  },
  {
   "cell_type": "code",
   "execution_count": 61,
   "metadata": {
    "execution": {
     "iopub.execute_input": "2023-08-27T11:40:47.463960Z",
     "iopub.status.busy": "2023-08-27T11:40:47.463562Z",
     "iopub.status.idle": "2023-08-27T11:40:47.470825Z",
     "shell.execute_reply": "2023-08-27T11:40:47.469503Z",
     "shell.execute_reply.started": "2023-08-27T11:40:47.463930Z"
    }
   },
   "outputs": [],
   "source": [
    "# Save the pipeline to a pickle file\n",
    "with open('preprocessing_pipeline.pkl', 'wb') as file:\n",
    "    pickle.dump(pipeline, file)"
   ]
  },
  {
   "cell_type": "markdown",
   "metadata": {},
   "source": [
    "### The saved preprocessor is also working correctly"
   ]
  },
  {
   "cell_type": "code",
   "execution_count": 62,
   "metadata": {
    "execution": {
     "iopub.execute_input": "2023-08-27T11:42:20.328055Z",
     "iopub.status.busy": "2023-08-27T11:42:20.327620Z",
     "iopub.status.idle": "2023-08-27T11:42:20.346240Z",
     "shell.execute_reply": "2023-08-27T11:42:20.345178Z",
     "shell.execute_reply.started": "2023-08-27T11:42:20.328023Z"
    }
   },
   "outputs": [
    {
     "data": {
      "text/html": [
       "<div>\n",
       "<style scoped>\n",
       "    .dataframe tbody tr th:only-of-type {\n",
       "        vertical-align: middle;\n",
       "    }\n",
       "\n",
       "    .dataframe tbody tr th {\n",
       "        vertical-align: top;\n",
       "    }\n",
       "\n",
       "    .dataframe thead th {\n",
       "        text-align: right;\n",
       "    }\n",
       "</style>\n",
       "<table border=\"1\" class=\"dataframe\">\n",
       "  <thead>\n",
       "    <tr style=\"text-align: right;\">\n",
       "      <th></th>\n",
       "      <th>Age</th>\n",
       "      <th>Location</th>\n",
       "      <th>Monthly_Bill</th>\n",
       "    </tr>\n",
       "  </thead>\n",
       "  <tbody>\n",
       "    <tr>\n",
       "      <th>0</th>\n",
       "      <td>45</td>\n",
       "      <td>2</td>\n",
       "      <td>31.67</td>\n",
       "    </tr>\n",
       "  </tbody>\n",
       "</table>\n",
       "</div>"
      ],
      "text/plain": [
       "   Age  Location  Monthly_Bill\n",
       "0   45         2         31.67"
      ]
     },
     "execution_count": 62,
     "metadata": {},
     "output_type": "execute_result"
    }
   ],
   "source": [
    "load_Preprocessor = pickle.load(open('preprocessing_pipeline.pkl', 'rb'))\n",
    "\n",
    "fea_df = pd.DataFrame([[45, 'Chicago', 31.67, 0]], columns=['Age', 'Location', 'Monthly_Bill', 'Churn'])\n",
    "\n",
    "data_scaled = load_Preprocessor.transform(fea_df)\n",
    "\n",
    "data_scaled[['Age', 'Location', 'Monthly_Bill']]\n"
   ]
  }
 ],
 "metadata": {
  "kernelspec": {
   "display_name": "Python 3 (ipykernel)",
   "language": "python",
   "name": "python3"
  },
  "language_info": {
   "codemirror_mode": {
    "name": "ipython",
    "version": 3
   },
   "file_extension": ".py",
   "mimetype": "text/x-python",
   "name": "python",
   "nbconvert_exporter": "python",
   "pygments_lexer": "ipython3",
   "version": "3.10.11"
  }
 },
 "nbformat": 4,
 "nbformat_minor": 4
}
